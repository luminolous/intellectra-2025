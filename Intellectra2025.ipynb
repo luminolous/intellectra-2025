{
  "cells": [
    {
      "cell_type": "code",
      "execution_count": null,
      "metadata": {
        "colab": {
          "base_uri": "https://localhost:8080/"
        },
        "id": "EgidZqZmZjG4",
        "outputId": "b017f289-9b8e-4577-a50c-35a645aa59dc"
      },
      "outputs": [],
      "source": [
        "!pip install autofeat"
      ]
    },
    {
      "cell_type": "code",
      "execution_count": null,
      "metadata": {
        "colab": {
          "base_uri": "https://localhost:8080/"
        },
        "id": "XyoS4bFIOcaO",
        "outputId": "8d93c671-9aed-4e23-806b-4368cddf7021"
      },
      "outputs": [],
      "source": [
        "!pip install optuna"
      ]
    },
    {
      "cell_type": "code",
      "execution_count": null,
      "metadata": {
        "id": "pqT94giH5Zfm"
      },
      "outputs": [],
      "source": [
        "import pandas as pd\n",
        "import numpy as np\n",
        "import matplotlib.pyplot as plt\n",
        "import seaborn as sns\n",
        "import lightgbm as lgb\n",
        "from sklearn.model_selection import train_test_split\n",
        "from sklearn.linear_model import LogisticRegression\n",
        "from sklearn.ensemble import RandomForestClassifier\n",
        "from sklearn.metrics import f1_score, roc_auc_score, confusion_matrix, classification_report, balanced_accuracy_score\n",
        "from sklearn.preprocessing import LabelEncoder\n",
        "from sklearn.preprocessing import StandardScaler\n",
        "from imblearn.under_sampling import TomekLinks\n",
        "from imblearn.combine import SMOTETomek\n",
        "from autofeat import AutoFeatRegressor, AutoFeatClassifier\n",
        "import optuna\n",
        "from sklearn.model_selection import KFold, StratifiedKFold"
      ]
    },
    {
      "cell_type": "code",
      "execution_count": null,
      "metadata": {
        "colab": {
          "base_uri": "https://localhost:8080/"
        },
        "id": "aKKyXlNsfPYu",
        "outputId": "47cc935c-2d66-4409-a402-f1c09a2d3ee0"
      },
      "outputs": [],
      "source": [
        "from google.colab import drive\n",
        "drive.mount('/content/drive')"
      ]
    },
    {
      "cell_type": "code",
      "execution_count": null,
      "metadata": {
        "id": "WDgpzCnfgIkJ"
      },
      "outputs": [],
      "source": [
        "from re import template\n",
        "train_label = pd.read_csv('/content/drive/MyDrive/Intellectra 2025/dataset/train_label_data.csv')\n",
        "member = pd.read_csv('/content/drive/MyDrive/Intellectra 2025/dataset/member_data.csv')\n",
        "train_transaction = pd.read_csv('/content/drive/MyDrive/Intellectra 2025/dataset/train_transaction_data.csv')\n",
        "product = pd.read_csv('/content/drive/MyDrive/Intellectra 2025/dataset/product_data.csv')\n",
        "program = pd.read_csv('/content/drive/MyDrive/Intellectra 2025/dataset/prodgram_data.csv')\n",
        "test_transaction = pd.read_csv('/content/drive/MyDrive/Intellectra 2025/dataset/test_transaction_data.csv')\n",
        "template_submission = pd.read_csv('/content/drive/MyDrive/Intellectra 2025/dataset/sample_submission.csv')"
      ]
    },
    {
      "cell_type": "markdown",
      "metadata": {
        "id": "qbiMR5E0C32G"
      },
      "source": [
        "### Test"
      ]
    },
    {
      "cell_type": "code",
      "execution_count": null,
      "metadata": {
        "colab": {
          "base_uri": "https://localhost:8080/"
        },
        "id": "MS9S5b55L5US",
        "outputId": "0101fd6c-caf7-4f37-e488-b65879ce8024"
      },
      "outputs": [],
      "source": [
        "test = test_transaction.merge(member, on='MemberID', how='left')\n",
        "test = test.merge(product, left_on='FK_PRODUCT_ID', right_on='productID', how='left')\n",
        "test = test.merge(program, left_on='FK_PROD_GRAM_ID', right_on='prodgramID', how='left')\n",
        "\n",
        "test"
      ]
    },
    {
      "cell_type": "code",
      "execution_count": null,
      "metadata": {
        "colab": {
          "base_uri": "https://localhost:8080/"
        },
        "id": "4oLTJvDtM-Vw",
        "outputId": "c4f934b6-0208-440c-e4bf-4094f4aabed9"
      },
      "outputs": [],
      "source": [
        "test['Price'].value_counts()"
      ]
    },
    {
      "cell_type": "code",
      "execution_count": null,
      "metadata": {
        "colab": {
          "base_uri": "https://localhost:8080/"
        },
        "id": "Zo1PXyeyMrOu",
        "outputId": "5c8556fe-9e9a-40c1-fc99-1893a23874a5"
      },
      "outputs": [],
      "source": [
        "missing_values = test.isnull().sum()\n",
        "\n",
        "missing_values = missing_values[missing_values > 0]\n",
        "\n",
        "print(\"Missing values per kolom:\")\n",
        "print(missing_values)"
      ]
    },
    {
      "cell_type": "code",
      "execution_count": null,
      "metadata": {
        "colab": {
          "base_uri": "https://localhost:8080/"
        },
        "id": "0xgaGidzcNsR",
        "outputId": "55f5438a-c955-47ef-e372-d021457410ed"
      },
      "outputs": [],
      "source": [
        "cols_to_drop = ['FK_PRODUCT_ID', 'productID', 'FK_PROD_GRAM_ID', 'prodgramID', 'TransactionID']\n",
        "test = test.drop(columns=[col for col in cols_to_drop if col in test.columns])\n",
        "\n",
        "test.head()"
      ]
    },
    {
      "cell_type": "code",
      "execution_count": null,
      "metadata": {
        "colab": {
          "base_uri": "https://localhost:8080/"
        },
        "id": "Y04lsDqPc4eO",
        "outputId": "9f7ccbec-71bd-4b4c-e628-1861f93957af"
      },
      "outputs": [],
      "source": [
        "test.info()"
      ]
    },
    {
      "cell_type": "code",
      "execution_count": null,
      "metadata": {
        "id": "Ed5olC1IdNWd"
      },
      "outputs": [],
      "source": [
        "test = test.drop(columns=['DateOfBirth'])\n",
        "\n",
        "median_price = test['PricePerUnit'].median()\n",
        "test['PricePerUnit'] = test['PricePerUnit'].fillna(median_price)"
      ]
    },
    {
      "cell_type": "code",
      "execution_count": null,
      "metadata": {
        "id": "9CSfG2JEdWiI"
      },
      "outputs": [],
      "source": [
        "test['JoinDate'] = pd.to_datetime(test['JoinDate'])\n",
        "test['TransactionDatetime'] = pd.to_datetime(test['TransactionDatetime'], utc=True).dt.tz_localize(None)\n",
        "\n",
        "test['EldestKidDOB'] = pd.to_datetime(test['EldestKidDOB'], errors='coerce')\n",
        "test['YoungestKidDOB'] = pd.to_datetime(test['YoungestKidDOB'], errors='coerce')"
      ]
    },
    {
      "cell_type": "code",
      "execution_count": null,
      "metadata": {
        "colab": {
          "base_uri": "https://localhost:8080/"
        },
        "id": "fXcWmVlkdhq2",
        "outputId": "8689de26-15db-44ac-bf54-c7b810d150c1"
      },
      "outputs": [],
      "source": [
        "test.head()"
      ]
    },
    {
      "cell_type": "code",
      "execution_count": null,
      "metadata": {
        "colab": {
          "base_uri": "https://localhost:8080/"
        },
        "id": "p362PddCdoIF",
        "outputId": "12df8f67-cbb5-44c0-befe-27c49f830cd9"
      },
      "outputs": [],
      "source": [
        "test.info()"
      ]
    },
    {
      "cell_type": "code",
      "execution_count": null,
      "metadata": {
        "id": "FhA-9-Vmdp-9"
      },
      "outputs": [],
      "source": [
        "test['Trans_Year']     = test['TransactionDatetime'].dt.year\n",
        "test['Trans_Month']    = test['TransactionDatetime'].dt.month\n",
        "test['Trans_Day']      = test['TransactionDatetime'].dt.day\n",
        "test['Trans_Weekday']  = test['TransactionDatetime'].dt.weekday\n",
        "test['Trans_Hour']     = test['TransactionDatetime'].dt.hour\n",
        "test['IsWeekend'] = test['Trans_Weekday'].isin([5, 6]).astype(int)\n",
        "\n",
        "test['Days_Since_Join'] = (test['TransactionDatetime'] - test['JoinDate']).dt.days\n",
        "\n",
        "test['Join_Year']     = test['JoinDate'].dt.year\n",
        "test['Join_Month']    = test['JoinDate'].dt.month\n",
        "test['Join_Weekday']  = test['JoinDate'].dt.weekday\n",
        "test['Join_Day']      = test['JoinDate'].dt.day\n",
        "\n",
        "test['EldestKid_Year']    = test['EldestKidDOB'].dt.year\n",
        "test['EldestKid_Month']   = test['EldestKidDOB'].dt.month\n",
        "test['EldestKid_AgeDays'] = (test['TransactionDatetime'] - test['EldestKidDOB']).dt.days\n",
        "test['EldestKid_AgeYears'] = test['EldestKid_AgeDays'] / 365\n",
        "\n",
        "test['YoungestKid_Year']    = test['YoungestKidDOB'].dt.year\n",
        "test['YoungestKid_Month']   = test['YoungestKidDOB'].dt.month\n",
        "test['YoungestKid_AgeDays'] = (test['TransactionDatetime'] - test['YoungestKidDOB']).dt.days\n",
        "test['YoungestKid_AgeYears'] = test['YoungestKid_AgeDays'] / 365"
      ]
    },
    {
      "cell_type": "code",
      "execution_count": null,
      "metadata": {
        "id": "LfDeEUyndxwA"
      },
      "outputs": [],
      "source": [
        "test = test.drop(columns=['JoinDate', 'EldestKidDOB', 'YoungestKidDOB', 'TransactionDatetime'])"
      ]
    },
    {
      "cell_type": "code",
      "execution_count": null,
      "metadata": {
        "id": "qffwhH3-dyZt"
      },
      "outputs": [],
      "source": [
        "test['IsWeekend'] = test['IsWeekend'].astype(int)\n",
        "\n",
        "test['EldestKid_AgeDays'] = test['EldestKid_AgeDays'].astype(int)\n",
        "test['YoungestKid_AgeDays'] = test['YoungestKid_AgeDays'].astype(int)"
      ]
    },
    {
      "cell_type": "code",
      "execution_count": null,
      "metadata": {
        "colab": {
          "base_uri": "https://localhost:8080/"
        },
        "id": "EXwxO-jdd5ZP",
        "outputId": "32bbc22a-b8e4-41f3-9476-b498e33a694a"
      },
      "outputs": [],
      "source": [
        "test.info()"
      ]
    },
    {
      "cell_type": "code",
      "execution_count": null,
      "metadata": {
        "id": "nyntY8BTeBe8"
      },
      "outputs": [],
      "source": [
        "data_test = test.drop(columns=['MemberID'])"
      ]
    },
    {
      "cell_type": "code",
      "execution_count": null,
      "metadata": {
        "id": "XrJPj7WNeLBp"
      },
      "outputs": [],
      "source": [
        "categorical_cols = ['City', 'Source', 'ProductName', 'ProductCategory', 'ProductLevel', 'GrammageName']\n",
        "\n",
        "le = LabelEncoder()\n",
        "for col in categorical_cols:\n",
        "    data_test[col] = le.fit_transform(data_test[col])"
      ]
    },
    {
      "cell_type": "code",
      "execution_count": null,
      "metadata": {
        "id": "Kvg88PDmeXzi"
      },
      "outputs": [],
      "source": [
        "int32_cols = data_test.select_dtypes('int32').columns\n",
        "data_test[int32_cols] = data_test[int32_cols].astype('int64')\n",
        "\n",
        "scaler = StandardScaler()\n",
        "cols_to_scale = ['PricePerUnit', 'Price', 'EldestKid_AgeYears', 'YoungestKid_AgeYears']\n",
        "data_test[cols_to_scale] = scaler.fit_transform(data_test[cols_to_scale])"
      ]
    },
    {
      "cell_type": "code",
      "execution_count": null,
      "metadata": {
        "colab": {
          "base_uri": "https://localhost:8080/"
        },
        "id": "-Cug6HsTeajo",
        "outputId": "f290b49b-e471-4fbb-dfd6-83a5fba488bf"
      },
      "outputs": [],
      "source": [
        "data_test.info()"
      ]
    },
    {
      "cell_type": "markdown",
      "metadata": {
        "id": "LlUN-6vzcukL"
      },
      "source": [
        "### Train"
      ]
    },
    {
      "cell_type": "code",
      "execution_count": null,
      "metadata": {
        "colab": {
          "base_uri": "https://localhost:8080/",
          "height": 634
        },
        "id": "blfOMHOBgK0r",
        "outputId": "a44cd3b8-de17-4714-d458-62d20817e6d2"
      },
      "outputs": [],
      "source": [
        "train = train_label.merge(member, on='MemberID', how='left')\n",
        "train = train.merge(train_transaction, on='MemberID', how='left')\n",
        "train = train.merge(product, left_on='FK_PRODUCT_ID', right_on='productID', how='left')\n",
        "train = train.merge(program, left_on='FK_PROD_GRAM_ID', right_on='prodgramID', how='left')\n",
        "\n",
        "train"
      ]
    },
    {
      "cell_type": "code",
      "execution_count": null,
      "metadata": {
        "colab": {
          "base_uri": "https://localhost:8080/",
          "height": 313
        },
        "id": "WdwfduLwzx9l",
        "outputId": "803e3d62-02b0-44bf-9cfc-34a2c6c38acd"
      },
      "outputs": [],
      "source": [
        "columns_to_drop = ['FK_PRODUCT_ID', 'productID', 'FK_PROD_GRAM_ID', 'prodgramID', 'TransactionID']\n",
        "train = train.drop(columns=columns_to_drop)\n",
        "\n",
        "train.head()"
      ]
    },
    {
      "cell_type": "code",
      "execution_count": null,
      "metadata": {
        "colab": {
          "base_uri": "https://localhost:8080/",
          "height": 209
        },
        "id": "-AyCRkJwEsLC",
        "outputId": "e144b6c7-dce6-4af6-b218-32ba76246f47"
      },
      "outputs": [],
      "source": [
        "train['Price'].value_counts()"
      ]
    },
    {
      "cell_type": "code",
      "execution_count": null,
      "metadata": {
        "colab": {
          "base_uri": "https://localhost:8080/"
        },
        "id": "yoZNu_4w90l2",
        "outputId": "fa591609-a678-4f29-b0be-25a81da4f9bb"
      },
      "outputs": [],
      "source": [
        "missing_values = train.isnull().sum()\n",
        "\n",
        "missing_values = missing_values[missing_values > 0]\n",
        "\n",
        "print(\"Missing values per kolom:\")\n",
        "print(missing_values)"
      ]
    },
    {
      "cell_type": "code",
      "execution_count": null,
      "metadata": {
        "id": "rXDo8o8O9-Eg"
      },
      "outputs": [],
      "source": [
        "train = train.drop(columns=['DateOfBirth'])\n",
        "\n",
        "median_price = train['PricePerUnit'].median()\n",
        "train['PricePerUnit'] = train['PricePerUnit'].fillna(median_price)"
      ]
    },
    {
      "cell_type": "code",
      "execution_count": null,
      "metadata": {
        "id": "K7uALEmn96Il"
      },
      "outputs": [],
      "source": [
        "train['JoinDate'] = pd.to_datetime(train['JoinDate'])\n",
        "train['TransactionDatetime'] = pd.to_datetime(train['TransactionDatetime'], utc=True).dt.tz_localize(None)\n",
        "\n",
        "train['EldestKidDOB'] = pd.to_datetime(train['EldestKidDOB'], errors='coerce')\n",
        "train['YoungestKidDOB'] = pd.to_datetime(train['YoungestKidDOB'], errors='coerce')"
      ]
    },
    {
      "cell_type": "code",
      "execution_count": null,
      "metadata": {
        "colab": {
          "base_uri": "https://localhost:8080/",
          "height": 313
        },
        "id": "gpmNVmyo-qNa",
        "outputId": "54951271-4825-4480-c09c-ccedd4336320"
      },
      "outputs": [],
      "source": [
        "train.head()"
      ]
    },
    {
      "cell_type": "code",
      "execution_count": null,
      "metadata": {
        "colab": {
          "base_uri": "https://localhost:8080/"
        },
        "id": "dVELfFXb-yAD",
        "outputId": "3d32f9a2-34f1-4492-9faa-d2abc66a1e2d"
      },
      "outputs": [],
      "source": [
        "train.info()"
      ]
    },
    {
      "cell_type": "code",
      "execution_count": null,
      "metadata": {
        "id": "nX6FbWKT_66M"
      },
      "outputs": [],
      "source": [
        "train['Trans_Year']     = train['TransactionDatetime'].dt.year\n",
        "train['Trans_Month']    = train['TransactionDatetime'].dt.month\n",
        "train['Trans_Day']      = train['TransactionDatetime'].dt.day\n",
        "train['Trans_Weekday']  = train['TransactionDatetime'].dt.weekday\n",
        "train['Trans_Hour']     = train['TransactionDatetime'].dt.hour\n",
        "train['IsWeekend'] = train['Trans_Weekday'].isin([5, 6]).astype(int)\n",
        "\n",
        "train['Days_Since_Join'] = (train['TransactionDatetime'] - train['JoinDate']).dt.days\n",
        "\n",
        "train['Join_Year']     = train['JoinDate'].dt.year\n",
        "train['Join_Month']    = train['JoinDate'].dt.month\n",
        "train['Join_Weekday']  = train['JoinDate'].dt.weekday\n",
        "train['Join_Day']      = train['JoinDate'].dt.day\n",
        "\n",
        "train['EldestKid_Year']    = train['EldestKidDOB'].dt.year\n",
        "train['EldestKid_Month']   = train['EldestKidDOB'].dt.month\n",
        "train['EldestKid_AgeDays'] = (train['TransactionDatetime'] - train['EldestKidDOB']).dt.days\n",
        "train['EldestKid_AgeYears'] = train['EldestKid_AgeDays'] / 365\n",
        "\n",
        "train['YoungestKid_Year']    = train['YoungestKidDOB'].dt.year\n",
        "train['YoungestKid_Month']   = train['YoungestKidDOB'].dt.month\n",
        "train['YoungestKid_AgeDays'] = (train['TransactionDatetime'] - train['YoungestKidDOB']).dt.days\n",
        "train['YoungestKid_AgeYears'] = train['YoungestKid_AgeDays'] / 365"
      ]
    },
    {
      "cell_type": "code",
      "execution_count": null,
      "metadata": {
        "id": "ACTwRzANBj_f"
      },
      "outputs": [],
      "source": [
        "train = train.drop(columns=['JoinDate', 'EldestKidDOB', 'YoungestKidDOB', 'TransactionDatetime'])"
      ]
    },
    {
      "cell_type": "code",
      "execution_count": null,
      "metadata": {
        "id": "MSFCWuxsB5QN"
      },
      "outputs": [],
      "source": [
        "train['IsWeekend'] = train['IsWeekend'].astype(int)\n",
        "\n",
        "train['EldestKid_AgeDays'] = train['EldestKid_AgeDays'].astype(int)\n",
        "train['YoungestKid_AgeDays'] = train['YoungestKid_AgeDays'].astype(int)"
      ]
    },
    {
      "cell_type": "code",
      "execution_count": null,
      "metadata": {
        "colab": {
          "base_uri": "https://localhost:8080/"
        },
        "id": "fx083O-zBWI8",
        "outputId": "27d8e1b1-b064-4d06-8ccd-f623788233ea"
      },
      "outputs": [],
      "source": [
        "train.info()"
      ]
    },
    {
      "cell_type": "code",
      "execution_count": null,
      "metadata": {
        "id": "oLVowLblCdA_"
      },
      "outputs": [],
      "source": [
        "data_train = train.drop(columns=['MemberID'])"
      ]
    },
    {
      "cell_type": "code",
      "execution_count": null,
      "metadata": {
        "id": "IK8dpVr2CtTp"
      },
      "outputs": [],
      "source": [
        "categorical_cols = ['City', 'Source', 'ProductName', 'ProductCategory', 'ProductLevel', 'GrammageName']\n",
        "\n",
        "le = LabelEncoder()\n",
        "for col in categorical_cols:\n",
        "    data_train[col] = le.fit_transform(data_train[col])"
      ]
    },
    {
      "cell_type": "code",
      "execution_count": null,
      "metadata": {
        "id": "FW3dfkmrDgeX"
      },
      "outputs": [],
      "source": [
        "int32_cols = data_train.select_dtypes('int32').columns\n",
        "data_train[int32_cols] = data_train[int32_cols].astype('int64')\n",
        "\n",
        "scaler = StandardScaler()\n",
        "cols_to_scale = ['PricePerUnit', 'Price', 'EldestKid_AgeYears', 'YoungestKid_AgeYears']\n",
        "data_train[cols_to_scale] = scaler.fit_transform(data_train[cols_to_scale])"
      ]
    },
    {
      "cell_type": "code",
      "execution_count": null,
      "metadata": {
        "colab": {
          "base_uri": "https://localhost:8080/",
          "height": 206
        },
        "id": "_BDJQMWAEaNC",
        "outputId": "1840d961-5716-4481-dd6c-b9d9aebb3339"
      },
      "outputs": [],
      "source": [
        "data_train[cols_to_scale].head()"
      ]
    },
    {
      "cell_type": "code",
      "execution_count": null,
      "metadata": {
        "colab": {
          "base_uri": "https://localhost:8080/",
          "height": 209
        },
        "id": "DwAtpxHoEnKy",
        "outputId": "a0e80bee-45ce-4eaf-f3fb-7382740629f4"
      },
      "outputs": [],
      "source": [
        "data_train['Price'].value_counts()"
      ]
    },
    {
      "cell_type": "code",
      "execution_count": null,
      "metadata": {
        "colab": {
          "base_uri": "https://localhost:8080/"
        },
        "id": "CDwPq9JMXcd5",
        "outputId": "bdc3816b-541c-4bd8-ed9b-174218f42892"
      },
      "outputs": [],
      "source": [
        "print(data_train.dtypes.value_counts())\n",
        "print(data_train.describe())"
      ]
    },
    {
      "cell_type": "code",
      "execution_count": null,
      "metadata": {
        "colab": {
          "base_uri": "https://localhost:8080/"
        },
        "id": "sAh2DC_AC5Xe",
        "outputId": "dd4480e3-3ddb-4a32-ff25-c0167115ce73"
      },
      "outputs": [],
      "source": [
        "data_train.info()"
      ]
    },
    {
      "cell_type": "code",
      "execution_count": null,
      "metadata": {
        "colab": {
          "base_uri": "https://localhost:8080/",
          "height": 17
        },
        "id": "D5fV4StyMf8i",
        "outputId": "d444e8d1-bdbb-4358-acee-68e1221f195b"
      },
      "outputs": [],
      "source": [
        "data_train.to_csv('data_train.csv', index=False)\n",
        "\n",
        "from google.colab import files\n",
        "files.download('data_train.csv')"
      ]
    },
    {
      "cell_type": "code",
      "execution_count": null,
      "metadata": {
        "colab": {
          "base_uri": "https://localhost:8080/",
          "height": 17
        },
        "id": "Mz69ui8uEOb3",
        "outputId": "475ea80e-fa45-418b-f2b1-24160f62879f"
      },
      "outputs": [],
      "source": [
        "data_test.to_csv('data_test.csv', index=False)\n",
        "\n",
        "from google.colab import files\n",
        "files.download('data_test.csv')"
      ]
    },
    {
      "cell_type": "markdown",
      "metadata": {
        "id": "ugDQILv3Encd"
      },
      "source": [
        "### By-pass data"
      ]
    },
    {
      "cell_type": "code",
      "execution_count": null,
      "metadata": {
        "id": "nLYfldeLE94G"
      },
      "outputs": [],
      "source": [
        "data_train = pd.read_csv('/content/drive/MyDrive/Intellectra 2025/dataset/data_train.csv')\n",
        "data_test = pd.read_csv('/content/drive/MyDrive/Intellectra 2025/dataset/data_test.csv')"
      ]
    },
    {
      "cell_type": "code",
      "execution_count": null,
      "metadata": {
        "id": "XVi4C8M35PwT"
      },
      "outputs": [],
      "source": [
        "data_train_feat = pd.read_csv('/content/drive/MyDrive/Intellectra 2025/dataset/data_train_feat.csv')\n",
        "data_test_feat = pd.read_csv('/content/drive/MyDrive/Intellectra 2025/dataset/data_test_feat.csv')"
      ]
    },
    {
      "cell_type": "markdown",
      "metadata": {
        "id": "bL8ftY-ycqz3"
      },
      "source": [
        "### Ope"
      ]
    },
    {
      "cell_type": "markdown",
      "metadata": {
        "id": "DZMFQhO_bGN3"
      },
      "source": [
        "### **Auto Feature Engineering**"
      ]
    },
    {
      "cell_type": "code",
      "execution_count": null,
      "metadata": {
        "id": "luLumVxvbFtf"
      },
      "outputs": [],
      "source": [
        "X = data_train.drop(columns=['next_buy'])\n",
        "y = data_train['next_buy']\n",
        "\n",
        "autofeat = AutoFeatClassifier(verbose=1, feateng_steps=1)\n",
        "X_feat = autofeat.fit_transform(X, y)\n",
        "\n",
        "data_train_feat = X_feat.copy()\n",
        "data_train_feat['next_buy'] = y.values"
      ]
    },
    {
      "cell_type": "code",
      "execution_count": null,
      "metadata": {
        "id": "doRldbRb3wMt"
      },
      "outputs": [],
      "source": [
        "original_columns = X.columns.tolist()\n",
        "\n",
        "X_test = data_test[original_columns]"
      ]
    },
    {
      "cell_type": "code",
      "execution_count": null,
      "metadata": {
        "colab": {
          "base_uri": "https://localhost:8080/"
        },
        "id": "nV6sRAln3JL_",
        "outputId": "05770c3f-11f2-45bd-a5f8-ad767960a18d"
      },
      "outputs": [],
      "source": [
        "X_feat_test = autofeat.transform(X_test)\n",
        "\n",
        "data_test_feat = X_feat_test.copy()"
      ]
    },
    {
      "cell_type": "code",
      "execution_count": null,
      "metadata": {
        "colab": {
          "base_uri": "https://localhost:8080/",
          "height": 17
        },
        "id": "UjR6OEhWDWxp",
        "outputId": "558fbd1a-45c7-4ca8-aeae-cadcc3b76453"
      },
      "outputs": [],
      "source": [
        "data_train_feat.to_csv('data_train_feat.csv', index=False)\n",
        "\n",
        "from google.colab import files\n",
        "files.download('data_train_feat.csv')"
      ]
    },
    {
      "cell_type": "code",
      "execution_count": null,
      "metadata": {
        "colab": {
          "base_uri": "https://localhost:8080/",
          "height": 17
        },
        "id": "X7Otm_DYDUTV",
        "outputId": "5778f5f9-9619-423c-96f8-119c8904e377"
      },
      "outputs": [],
      "source": [
        "data_test_feat.to_csv('data_test_feat.csv', index=False)\n",
        "\n",
        "from google.colab import files\n",
        "files.download('data_test_feat.csv')"
      ]
    },
    {
      "cell_type": "code",
      "execution_count": null,
      "metadata": {
        "colab": {
          "base_uri": "https://localhost:8080/"
        },
        "id": "HuAda1p56fWs",
        "outputId": "92584fd2-3f40-4b78-a2be-fe584b2ab508"
      },
      "outputs": [],
      "source": [
        "if list((data_train_feat.drop(columns=['next_buy'])).columns) == list(data_test_feat.columns):\n",
        "    print(\"Kolom train dan test sudah sama persis (nama & urutan).\")\n",
        "else:\n",
        "    print(\"Kolom tidak sama atau urutannya berbeda.\")"
      ]
    },
    {
      "cell_type": "code",
      "execution_count": null,
      "metadata": {
        "colab": {
          "base_uri": "https://localhost:8080/"
        },
        "id": "KAH4K9W_5g5I",
        "outputId": "755aa668-7c23-4b33-8c57-1abf83a946ee"
      },
      "outputs": [],
      "source": [
        "data_train_feat.info()"
      ]
    },
    {
      "cell_type": "code",
      "execution_count": null,
      "metadata": {
        "colab": {
          "base_uri": "https://localhost:8080/"
        },
        "id": "zUIgptFv5nDi",
        "outputId": "24c072e5-efa2-417e-e906-8ea81655ce1d"
      },
      "outputs": [],
      "source": [
        "data_test_feat.info()"
      ]
    },
    {
      "cell_type": "markdown",
      "metadata": {
        "id": "dsm7imEQWrLN"
      },
      "source": [
        "### **Correlation check**"
      ]
    },
    {
      "cell_type": "markdown",
      "metadata": {
        "id": "Ks5P5_ZhWyn9"
      },
      "source": [
        "**Imbalanced Handle and Feature Engineering**"
      ]
    },
    {
      "cell_type": "code",
      "execution_count": null,
      "metadata": {
        "colab": {
          "base_uri": "https://localhost:8080/",
          "height": 628
        },
        "id": "0fRJKwUuLmUz",
        "outputId": "218b062c-23fa-4479-bbf9-64278260d69a"
      },
      "outputs": [],
      "source": [
        "print(data_train_feat['next_buy'].value_counts())\n",
        "print(data_train_feat['next_buy'].value_counts(normalize=True))\n",
        "\n",
        "counts = data_train_feat['next_buy'].value_counts()\n",
        "imbalance_ratio = counts.min() / counts.max()\n",
        "print(\"Rasio kelas minoritas terhadap mayoritas:\", imbalance_ratio)\n",
        "\n",
        "sns.countplot(x='next_buy', data=data_train_feat)\n",
        "plt.title('Distribusi Kelas next_buy')\n",
        "plt.show()"
      ]
    },
    {
      "cell_type": "markdown",
      "metadata": {
        "id": "XpbAxFrIW1pJ"
      },
      "source": [
        "**Model Selection and Training**"
      ]
    },
    {
      "cell_type": "code",
      "execution_count": null,
      "metadata": {
        "id": "P8wobHqBLvr9"
      },
      "outputs": [],
      "source": [
        "X = data_train_feat.drop(columns=['next_buy'])\n",
        "y = data_train_feat['next_buy']\n",
        "\n",
        "X_train, X_valid, y_train, y_valid = train_test_split(X, y, test_size=0.2, random_state=42, stratify=y)"
      ]
    },
    {
      "cell_type": "code",
      "execution_count": null,
      "metadata": {
        "colab": {
          "base_uri": "https://localhost:8080/"
        },
        "id": "IIAM6LtBOfyF",
        "outputId": "fd1f082a-6943-41b6-cdf3-abc58588329d"
      },
      "outputs": [],
      "source": [
        "from collections import Counter\n",
        "\n",
        "def show_distribution(y, name=\"\"):\n",
        "    counts = Counter(y)\n",
        "    total = sum(counts.values())\n",
        "    for k, v in counts.items():\n",
        "        print(f\"{name} - Class {k}: {v} ({v/total:.2%})\")\n",
        "\n",
        "show_distribution(y_train, \"Train\")\n",
        "show_distribution(y_valid, \"Valid\")"
      ]
    },
    {
      "cell_type": "code",
      "execution_count": null,
      "metadata": {
        "colab": {
          "base_uri": "https://localhost:8080/"
        },
        "id": "nEy6AP908HAA",
        "outputId": "69ad1e2b-b31a-4f4e-929e-c2b0d05c2967"
      },
      "outputs": [],
      "source": [
        "from collections import Counter\n",
        "print(\"Sebelum balancing:\", Counter(y_train))"
      ]
    },
    {
      "cell_type": "code",
      "execution_count": null,
      "metadata": {
        "colab": {
          "base_uri": "https://localhost:8080/"
        },
        "id": "KoqEZ2Fu8D7f",
        "outputId": "9e6a46dc-393a-4aa2-fd08-950f3569995a"
      },
      "outputs": [],
      "source": [
        "smote_tomek = SMOTETomek(random_state=42)\n",
        "\n",
        "X_train_resampled, y_train_resampled = smote_tomek.fit_resample(X_train, y_train)\n",
        "\n",
        "from collections import Counter\n",
        "print(\"Setelah SMOTETomek:\", Counter(y_train_resampled))"
      ]
    },
    {
      "cell_type": "code",
      "execution_count": null,
      "metadata": {
        "colab": {
          "base_uri": "https://localhost:8080/",
          "height": 472
        },
        "id": "vdTsRmYu9YrW",
        "outputId": "c94ea5e2-3837-4442-bd11-5e0e80bb8e4d"
      },
      "outputs": [],
      "source": [
        "sns.countplot(x=y_train_resampled)\n",
        "plt.title(\"Distribusi Label Setelah SMOTETomek\")\n",
        "plt.show()"
      ]
    },
    {
      "cell_type": "markdown",
      "metadata": {
        "id": "bQ7j6MQcRaya"
      },
      "source": [
        "### **Param Search Optuna**"
      ]
    },
    {
      "cell_type": "markdown",
      "metadata": {
        "id": "Vx3_WLYiT-QT"
      },
      "source": [
        "**Tuning LGBM**"
      ]
    },
    {
      "cell_type": "code",
      "execution_count": null,
      "metadata": {
        "id": "kSzJp8OwXjtH"
      },
      "outputs": [],
      "source": [
        "def balanced_accuracy_eval(y_pred, dataset):\n",
        "    y_true = dataset.get_label()\n",
        "    y_pred_binary = (y_pred > 0.5).astype(int)\n",
        "    score = balanced_accuracy_score(y_true, y_pred_binary)\n",
        "    return 'balanced_accuracy', score, True"
      ]
    },
    {
      "cell_type": "code",
      "execution_count": null,
      "metadata": {
        "id": "XPcaarktP2DZ"
      },
      "outputs": [],
      "source": [
        "def objective(trial):\n",
        "    max_depth = trial.suggest_int(\"max_depth\", 3, 8)\n",
        "    max_leaves = min(200, 2 ** max_depth)\n",
        "    min_leaves = min(max_leaves, 2 ** (max_depth - 1))\n",
        "\n",
        "    param = {\n",
        "        \"objective\": \"binary\",\n",
        "        \"verbosity\": -1,\n",
        "        \"boosting_type\": \"gbdt\",\n",
        "        \"random_state\": 42,\n",
        "        \"n_jobs\": -1,\n",
        "        \"learning_rate\": trial.suggest_float(\"learning_rate\", 0.01, 0.2, log=True),\n",
        "        \"num_leaves\": trial.suggest_int(\"num_leaves\", min_leaves, max_leaves),\n",
        "        \"max_depth\": max_depth,\n",
        "        \"min_child_samples\": trial.suggest_int(\"min_child_samples\", 10, 100),\n",
        "        \"feature_fraction\": trial.suggest_float(\"feature_fraction\", 0.6, 1.0),\n",
        "        \"bagging_fraction\": trial.suggest_float(\"bagging_fraction\", 0.6, 1.0),\n",
        "        \"bagging_freq\": trial.suggest_int(\"bagging_freq\", 1, 7),\n",
        "        \"colsample_bytree\": trial.suggest_float(\"colsample_bytree\", 0.5, 1.0),\n",
        "        \"subsample_freq\": trial.suggest_int(\"subsample_freq\", 1, 5),\n",
        "        \"lambda_l1\": trial.suggest_float(\"lambda_l1\", 1e-8, 10.0, log=True),\n",
        "        \"lambda_l2\": trial.suggest_float(\"lambda_l2\", 1e-8, 10.0, log=True),\n",
        "        \"scale_pos_weight\": scale_pos_weight,\n",
        "    }\n",
        "\n",
        "    kf = StratifiedKFold(n_splits=5, shuffle=True, random_state=42)\n",
        "    balanced_scores = []\n",
        "\n",
        "    for fold, (train_idx, val_idx) in enumerate(kf.split(X_train_resampled)):\n",
        "        X_tr, X_val_ = X_train_resampled.iloc[train_idx], X_train_resampled.iloc[val_idx]\n",
        "        y_tr, y_val_ = y_train_resampled.iloc[train_idx], y_train_resampled.iloc[val_idx]\n",
        "\n",
        "        model = lgb.LGBMClassifier(\n",
        "            n_estimators=1000,\n",
        "            **param\n",
        "        )\n",
        "\n",
        "        model.fit(\n",
        "            X_tr, y_tr,\n",
        "            eval_set=[(X_val_, y_val_)],\n",
        "            eval_metric=balanced_accuracy_eval,\n",
        "            callbacks=[lgb.early_stopping(50), lgb.log_evaluation(0)]\n",
        "        )\n",
        "\n",
        "        y_pred = model.predict(X_val_)\n",
        "        bal_acc = balanced_accuracy_score(y_val_, y_pred)\n",
        "        print(f\"Fold {fold+1} Balanced Accuracy: {bal_acc:.4f}\")\n",
        "        balanced_scores.append(bal_acc)\n",
        "\n",
        "    return np.mean(balanced_scores)"
      ]
    },
    {
      "cell_type": "code",
      "execution_count": null,
      "metadata": {
        "colab": {
          "base_uri": "https://localhost:8080/",
          "height": 1000,
          "referenced_widgets": [
            "7a80d65052bc4d03afce8566f33350d4",
            "130b2a4f6b014e07ab0e5c15086b239e",
            "0f0f07ed2281467f81f88255b2c40320",
            "06a84a68599e429a905941c70cdf83c6",
            "a1402503b2bb423fa4d0ad74bf63b883",
            "7acf97fde67f470cb34ca9b42b78baf0",
            "50c46f1203434062a1776ffb664d75ff",
            "91b6396b2bc34281bc3444008a948935",
            "6946f7948e484c81a1dfe2382b4edb3c",
            "7491832042c34091ae464127aada1c39",
            "98da41926cb247b8bfff45c08a975ab2"
          ]
        },
        "id": "JvWTthbQP3Rc",
        "outputId": "e283e251-200c-4528-cde2-4e03c1acc2a2"
      },
      "outputs": [],
      "source": [
        "db_path = \"/content/drive/MyDrive/Intellectra 2025/dataset/optuna/optuna_study.db\"\n",
        "\n",
        "neg, pos = np.bincount(y_train_resampled)\n",
        "scale_pos_weight = neg / pos\n",
        "\n",
        "study = optuna.create_study(\n",
        "    study_name=\"lgbm_optuna\",\n",
        "    direction='maximize',\n",
        "    storage=f\"sqlite:///{db_path}\",\n",
        "    load_if_exists=True\n",
        ")\n",
        "\n",
        "study.optimize(objective, n_trials=100, show_progress_bar=True)"
      ]
    },
    {
      "cell_type": "code",
      "execution_count": null,
      "metadata": {
        "colab": {
          "base_uri": "https://localhost:8080/",
          "height": 1000,
          "referenced_widgets": [
            "53b29fce995c4e06a3072cac39e25840",
            "b58d3f63266642cdbebc1988303ca05e",
            "64de57c11d22425caefa6d6b5f6797f7",
            "6a79db46bc7046e4bbc781920a7b62d8",
            "1549d72783cb4b13aab5825debe2c796",
            "310cc415a6ea471da160f17a2e79bd00",
            "445616afbc794f6695b64caca4c502db",
            "7ea543289b634783827036cf4f2388c8",
            "ec831d8f992f45a5b1150cbc43ad15cd",
            "3c770e1885374ad88f4e7bcad328dc3b",
            "02841ac974414b688ca30c0b6ddf045a"
          ]
        },
        "id": "GO00KeTPTnDE",
        "outputId": "2ad314b4-0a0a-4435-bab4-b4bce963d059"
      },
      "outputs": [],
      "source": [
        "neg, pos = np.bincount(y_train)\n",
        "scale_pos_weight = neg / pos\n",
        "\n",
        "study = optuna.load_study(\n",
        "    study_name=\"lgbm_optuna\",\n",
        "    storage = \"sqlite:////content/drive/MyDrive/Intellectra 2025/dataset/optuna/optuna_study.db\"\n",
        ")\n",
        "study.optimize(objective, n_trials=30, show_progress_bar=True)"
      ]
    },
    {
      "cell_type": "code",
      "execution_count": null,
      "metadata": {
        "id": "YSCaqnS6EwVz"
      },
      "outputs": [],
      "source": [
        "import json\n",
        "\n",
        "with open(\"/content/drive/MyDrive/Intellectra 2025/backup_model and param/best_lgbm_params_2.json\", \"w\") as f:\n",
        "    json.dump(study.best_trial.params, f)"
      ]
    },
    {
      "cell_type": "code",
      "execution_count": null,
      "metadata": {
        "colab": {
          "base_uri": "https://localhost:8080/"
        },
        "id": "RwaLkOUOcjO3",
        "outputId": "57472be8-25b0-401f-b337-dc6a5412ee9b"
      },
      "outputs": [],
      "source": [
        "import joblib\n",
        "\n",
        "joblib.dump(study, \"/content/drive/MyDrive/Intellectra 2025/backup_model and param/study_lgbm.pkl\")"
      ]
    },
    {
      "cell_type": "code",
      "execution_count": null,
      "metadata": {
        "colab": {
          "base_uri": "https://localhost:8080/"
        },
        "id": "sAEH7gQGQr7B",
        "outputId": "a41de404-6f07-4d52-88f5-8448fd2ee128"
      },
      "outputs": [],
      "source": [
        "print(\"Best trial:\")\n",
        "print(\"  Balanced Accuracy:\", study.best_value)\n",
        "print(\"  Best Params:\")\n",
        "for key, value in study.best_params.items():\n",
        "    print(f\"    {key}: {value}\")"
      ]
    },
    {
      "cell_type": "markdown",
      "metadata": {
        "id": "eV_svZjPUCMg"
      },
      "source": [
        "**Tuning LogReg**"
      ]
    },
    {
      "cell_type": "code",
      "execution_count": null,
      "metadata": {
        "id": "f-6BoAerUHJQ"
      },
      "outputs": [],
      "source": [
        "from sklearn.pipeline import make_pipeline\n",
        "\n",
        "def objective_logreg(trial):\n",
        "    C = trial.suggest_float(\"C\", 1e-3, 10.0, log=True)\n",
        "    penalty = trial.suggest_categorical(\"penalty\", [\"l1\", \"l2\"])\n",
        "    solver = \"liblinear\" if penalty == \"l1\" else \"lbfgs\"\n",
        "\n",
        "    kf = KFold(n_splits=5, shuffle=True, random_state=42)\n",
        "    balanced_scores = []\n",
        "\n",
        "    for fold, (train_idx, val_idx) in enumerate(kf.split(X_train_resampled)):\n",
        "        X_tr, X_val_ = X_train_resampled.iloc[train_idx], X_train_resampled.iloc[val_idx]\n",
        "        y_tr, y_val_ = y_train_resampled.iloc[train_idx], y_train_resampled.iloc[val_idx]\n",
        "\n",
        "        model = make_pipeline(\n",
        "            StandardScaler(),\n",
        "            LogisticRegression(\n",
        "                C=C,\n",
        "                penalty=penalty,\n",
        "                solver=solver,\n",
        "                class_weight='balanced',\n",
        "                max_iter=1000,\n",
        "                random_state=42\n",
        "            )\n",
        "        )\n",
        "\n",
        "        model.fit(X_tr, y_tr)\n",
        "        y_pred = model.predict(X_val_)\n",
        "        bal_acc = balanced_accuracy_score(y_val_, y_pred)\n",
        "        print(f\"Fold {fold+1} Balanced Accuracy: {bal_acc:.4f}\")\n",
        "        balanced_scores.append(bal_acc)\n",
        "\n",
        "    return np.mean(balanced_scores)"
      ]
    },
    {
      "cell_type": "code",
      "execution_count": null,
      "metadata": {
        "colab": {
          "base_uri": "https://localhost:8080/",
          "referenced_widgets": [
            "bbc5d4a051d74aa882396ebee3d33421",
            "17b872e6e2e8403790b9aa7d9661a57b",
            "5c43123918174500a72680d61ff854c2",
            "8d2d430f06ec4c25a70f0370e7df03a4",
            "885c515be90948ae9fd46b310189f4e2",
            "3ff3e04086b84420953a384a2aaaa5ad",
            "deb690ef112f4bcaae3b689eec3dc8c5",
            "0b870101dfef48d9b53293e0a0cf0869",
            "eb8b94f83d27450ab322dce332a313a4",
            "1ed99fd7a58349cdaaca9bc02fe3839f",
            "90269dc4f58742f0be584ee715771d93"
          ]
        },
        "id": "rlVY1aNPUc0J",
        "outputId": "1093750c-254d-4e30-9008-3d65063b09e2"
      },
      "outputs": [],
      "source": [
        "study_logreg = optuna.create_study(direction='maximize')\n",
        "study_logreg.optimize(objective_logreg, n_trials=100, show_progress_bar=True)"
      ]
    },
    {
      "cell_type": "code",
      "execution_count": null,
      "metadata": {
        "id": "udQqh6BSUxfi"
      },
      "outputs": [],
      "source": [
        "import json\n",
        "\n",
        "with open(\"/content/drive/MyDrive/Intellectra 2025/backup_model and param/best_logreg_params.json\", \"w\") as f:\n",
        "    json.dump(study_logreg.best_trial.params, f)"
      ]
    },
    {
      "cell_type": "code",
      "execution_count": null,
      "metadata": {
        "colab": {
          "base_uri": "https://localhost:8080/"
        },
        "id": "93l5tsDodqLP",
        "outputId": "08c9508c-a7a2-4462-d2c1-65653c0b990f"
      },
      "outputs": [],
      "source": [
        "import joblib\n",
        "\n",
        "joblib.dump(study_logreg, \"/content/drive/MyDrive/Intellectra 2025/backup_model and param/study_logreg.pkl\")"
      ]
    },
    {
      "cell_type": "code",
      "execution_count": null,
      "metadata": {
        "colab": {
          "base_uri": "https://localhost:8080/"
        },
        "id": "_gLRZ5ThWIAm",
        "outputId": "82495da1-e15a-481b-c4a4-f63aed6ea3e1"
      },
      "outputs": [],
      "source": [
        "print(\"Best trial:\")\n",
        "print(\"  Balanced Accuracy:\", study_logreg.best_value)\n",
        "print(\"  Best Params:\")\n",
        "for key, value in study_logreg.best_params.items():\n",
        "    print(f\"    {key}: {value}\")"
      ]
    },
    {
      "cell_type": "markdown",
      "metadata": {
        "id": "-XB76Cz-UE3u"
      },
      "source": [
        "**Tuning RF**"
      ]
    },
    {
      "cell_type": "code",
      "execution_count": null,
      "metadata": {
        "id": "R3tTPrYQYlyh"
      },
      "outputs": [],
      "source": [
        "def objective_rf(trial):\n",
        "    params = {\n",
        "        \"n_estimators\": trial.suggest_int(\"n_estimators\", 50, 300),\n",
        "        \"max_depth\": trial.suggest_int(\"max_depth\", 3, 15),\n",
        "        \"min_samples_leaf\": trial.suggest_int(\"min_samples_leaf\", 1, 20),\n",
        "        \"class_weight\": \"balanced\",\n",
        "        \"random_state\": 42,\n",
        "        \"n_jobs\": -1\n",
        "    }\n",
        "\n",
        "    kf = KFold(n_splits=5, shuffle=True, random_state=42)\n",
        "    balanced_scores = []\n",
        "\n",
        "    for fold, (train_idx, val_idx) in enumerate(kf.split(X_train_resampled)):\n",
        "        X_tr, X_val_ = X_train_resampled.iloc[train_idx], X_train_resampled.iloc[val_idx]\n",
        "        y_tr, y_val_ = y_train_resampled.iloc[train_idx], y_train_resampled.iloc[val_idx]\n",
        "\n",
        "        model = RandomForestClassifier(**params)\n",
        "        model.fit(X_tr, y_tr)\n",
        "        y_pred = model.predict(X_val_)\n",
        "        bal_acc = balanced_accuracy_score(y_val_, y_pred)\n",
        "        print(f\"Fold {fold+1} Balanced Accuracy: {bal_acc:.4f}\")\n",
        "        balanced_scores.append(bal_acc)\n",
        "\n",
        "    return np.mean(balanced_scores)"
      ]
    },
    {
      "cell_type": "code",
      "execution_count": null,
      "metadata": {
        "colab": {
          "base_uri": "https://localhost:8080/",
          "referenced_widgets": [
            "1af0f32be89d4858ba711c8472b66714",
            "0ca6d94dcb5e4b64b3c58a506da0caa4",
            "4e8a12068fd14da7a9dd96473f1dc8c7",
            "057cc914e1374a8fae503a3030af0a2b",
            "e4e7c756132c478b93641bed6f49a0c5",
            "aa5071ecd9b64448aee1a1245de682db",
            "2c058ccbc326414591654c8221369f8b",
            "881c6e746ff84ee7b0cbbbe12ed5e5b9",
            "f967b649169d487f8bba5524335053ef",
            "b100aef5e4c64203a4fdbd86f17ffd2b",
            "cb442beadb2a4e10a4d3758aba32b561"
          ]
        },
        "id": "I_vl_adHYrUL",
        "outputId": "3f9a7198-2280-474b-c1fb-e63a53c72818"
      },
      "outputs": [],
      "source": [
        "study_rf = optuna.create_study(direction='maximize')\n",
        "study_rf.optimize(objective_rf, n_trials=100, show_progress_bar=True)"
      ]
    },
    {
      "cell_type": "code",
      "execution_count": null,
      "metadata": {
        "id": "kwKl5S-efsEv"
      },
      "outputs": [],
      "source": [
        "with open(\"/content/drive/MyDrive/Intellectra 2025/backup_model and param/best_rf_params.json\", \"w\") as f:\n",
        "    json.dump(study_rf.best_trial.params, f)"
      ]
    },
    {
      "cell_type": "code",
      "execution_count": null,
      "metadata": {
        "colab": {
          "base_uri": "https://localhost:8080/"
        },
        "id": "QUYmkekWfu2D",
        "outputId": "ebf4c7c5-843f-4bff-9ee5-e913a1db9e4a"
      },
      "outputs": [],
      "source": [
        "import joblib\n",
        "\n",
        "joblib.dump(study_rf, \"/content/drive/MyDrive/Intellectra 2025/backup_model and param/study_rf.pkl\")"
      ]
    },
    {
      "cell_type": "markdown",
      "metadata": {
        "id": "mb-Wv_q3Rrsw"
      },
      "source": [
        "### Evaluate and Model Train"
      ]
    },
    {
      "cell_type": "code",
      "execution_count": null,
      "metadata": {
        "id": "i2NcSWkIYuL5"
      },
      "outputs": [],
      "source": [
        "from sklearn.metrics import f1_score, balanced_accuracy_score, roc_auc_score, confusion_matrix\n",
        "\n",
        "def evaluate_model(name, model, X_train, y_train, X_val, y_val):\n",
        "    print(f\"\\n=== {name} ===\")\n",
        "\n",
        "    def evaluate_split(split_name, X, y):\n",
        "        y_pred = model.predict(X)\n",
        "\n",
        "        if hasattr(model, \"predict_proba\"):\n",
        "            y_proba = model.predict_proba(X)\n",
        "            if isinstance(y_proba, pd.DataFrame):\n",
        "                y_prob = y_proba.iloc[:, 1]\n",
        "            else:\n",
        "                y_prob = y_proba[:, 1]\n",
        "        else:\n",
        "            y_prob = None\n",
        "\n",
        "        f1 = f1_score(y, y_pred)\n",
        "        bal_acc = balanced_accuracy_score(y, y_pred)\n",
        "        auc = roc_auc_score(y, y_prob) if y_prob is not None else \"N/A\"\n",
        "\n",
        "        print(f\"\\n--- {split_name} ---\")\n",
        "        print(\"F1 Score          :\", round(f1, 4))\n",
        "        print(\"Balanced Accuracy :\", round(bal_acc, 4))\n",
        "        print(\"AUC Score         :\", round(auc, 4) if auc != \"N/A\" else \"N/A\")\n",
        "        print(\"Confusion Matrix:\\n\", confusion_matrix(y, y_pred))\n",
        "\n",
        "    evaluate_split(\"Train\", X_train, y_train)\n",
        "    evaluate_split(\"Validation/Test\", X_val, y_val)"
      ]
    },
    {
      "cell_type": "code",
      "execution_count": null,
      "metadata": {
        "colab": {
          "base_uri": "https://localhost:8080/"
        },
        "id": "HciuhstUUxsK",
        "outputId": "cde0d415-f483-44c7-e88c-a2b47b97303a"
      },
      "outputs": [],
      "source": [
        "from sklearn.pipeline import make_pipeline\n",
        "from sklearn.preprocessing import StandardScaler\n",
        "from sklearn.linear_model import LogisticRegression\n",
        "\n",
        "best_logreg_params = study_logreg.best_params\n",
        "best_logreg_params.update({\n",
        "    \"class_weight\": \"balanced\",\n",
        "    \"random_state\": 42,\n",
        "    \"max_iter\": 1000\n",
        "})\n",
        "\n",
        "best_logreg_model = make_pipeline(\n",
        "    StandardScaler(),\n",
        "    LogisticRegression(**best_logreg_params)\n",
        ")\n",
        "\n",
        "best_logreg_model.fit(X_train_resampled, y_train_resampled)\n",
        "evaluate_model(\"Logistic Regression (Optuna Tuned)\", best_logreg_model, X_train_resampled, y_train_resampled, X_valid, y_valid)"
      ]
    },
    {
      "cell_type": "code",
      "execution_count": null,
      "metadata": {
        "id": "M7ycZxO5aIHk"
      },
      "outputs": [],
      "source": [
        "import json\n",
        "\n",
        "with open(\"/content/drive/MyDrive/Intellectra 2025/backup_model and param/best_rf_params.json\", \"r\") as f:\n",
        "    best_rf_params = json.load(f)"
      ]
    },
    {
      "cell_type": "code",
      "execution_count": null,
      "metadata": {
        "colab": {
          "base_uri": "https://localhost:8080/"
        },
        "id": "zvGEAMQVVDck",
        "outputId": "bde574c8-a994-4cda-f70d-c9d81b74c6f3"
      },
      "outputs": [],
      "source": [
        "from sklearn.ensemble import RandomForestClassifier\n",
        "\n",
        "# best_rf_params = study_rf.best_params\n",
        "best_rf_params.update({\n",
        "    \"class_weight\": \"balanced\",\n",
        "    \"random_state\": 42,\n",
        "    \"n_jobs\": -1\n",
        "})\n",
        "\n",
        "best_rf_model = RandomForestClassifier(\n",
        "    **best_rf_params\n",
        ")\n",
        "\n",
        "best_rf_model.fit(X_train_resampled, y_train_resampled)\n",
        "evaluate_model(\"Random Forest (Optuna Tuned)\", best_rf_model, X_train_resampled, y_train_resampled, X_valid, y_valid)"
      ]
    },
    {
      "cell_type": "code",
      "execution_count": null,
      "metadata": {
        "id": "7tvC81utYL7c"
      },
      "outputs": [],
      "source": [
        "import json\n",
        "\n",
        "with open(\"/content/drive/MyDrive/Intellectra 2025/backup_model and param/best_lgbm_params_1.json\", \"r\") as f:\n",
        "    best_params = json.load(f)"
      ]
    },
    {
      "cell_type": "code",
      "execution_count": null,
      "metadata": {
        "colab": {
          "base_uri": "https://localhost:8080/",
          "height": 185
        },
        "id": "5s7z3pHGL5fJ",
        "outputId": "99beab2d-65ee-4c6c-dd09-ad0f5b7ed058"
      },
      "outputs": [],
      "source": [
        "neg, pos = np.bincount(y_train_resampled)\n",
        "scale_pos_weight = neg / pos\n",
        "\n",
        "best_params.update({\n",
        "    \"objective\": \"binary\",\n",
        "    \"random_state\": 42,\n",
        "    \"scale_pos_weight\": scale_pos_weight,\n",
        "    \"n_jobs\": -1\n",
        "})\n",
        "\n",
        "best_lgb_model = lgb.LGBMClassifier(\n",
        "    n_estimators=1000,\n",
        "    **best_params\n",
        ")\n",
        "\n",
        "best_lgb_model.fit(X_train_resampled, y_train_resampled)"
      ]
    },
    {
      "cell_type": "code",
      "execution_count": null,
      "metadata": {
        "colab": {
          "base_uri": "https://localhost:8080/"
        },
        "id": "8J6sZWpfQvJ1",
        "outputId": "bb3f5eaf-443b-439c-9bf1-b4757e8dfe8d"
      },
      "outputs": [],
      "source": [
        "neg, pos = np.bincount(y_train_resampled)\n",
        "scale_pos_weight = neg / pos\n",
        "\n",
        "# best_params = study.best_params\n",
        "best_params.update({\n",
        "    \"objective\": \"binary\",\n",
        "    \"random_state\": 42,\n",
        "    \"scale_pos_weight\": scale_pos_weight,\n",
        "    \"n_jobs\": -1\n",
        "})\n",
        "\n",
        "best_lgb_model = lgb.LGBMClassifier(\n",
        "    n_estimators=1000,\n",
        "    **best_params\n",
        ")\n",
        "\n",
        "best_lgb_model.fit(X_train_resampled, y_train_resampled,\n",
        "                   eval_set=[(X_valid, y_valid)],\n",
        "                   eval_metric=\"binary_logloss\",\n",
        "                   callbacks=[lgb.early_stopping(50), lgb.log_evaluation(10)])\n",
        "evaluate_model(\"LightGBM (Optuna Tuned)\", best_lgb_model, X_train_resampled, y_train_resampled, X_valid, y_valid)"
      ]
    },
    {
      "cell_type": "code",
      "execution_count": null,
      "metadata": {
        "colab": {
          "base_uri": "https://localhost:8080/",
          "height": 17
        },
        "id": "HGOcLOCaG5eZ",
        "outputId": "d7439cf0-5f98-4e26-feca-97ad113284eb"
      },
      "outputs": [],
      "source": [
        "import joblib\n",
        "\n",
        "joblib.dump(best_lgb_model, \"best_lgb_model_1.pkl\")\n",
        "\n",
        "from google.colab import files\n",
        "files.download(\"best_lgb_model_1.pkl\")"
      ]
    },
    {
      "cell_type": "code",
      "execution_count": null,
      "metadata": {
        "colab": {
          "base_uri": "https://localhost:8080/"
        },
        "id": "KWFweyC1YxLM",
        "outputId": "b989745c-1962-4270-d28e-1018448a1273"
      },
      "outputs": [],
      "source": [
        "neg, pos = np.bincount(y_train_resampled)\n",
        "scale_pos_weight = neg / pos\n",
        "\n",
        "logreg = LogisticRegression(max_iter=1000, class_weight='balanced')\n",
        "logreg.fit(X_train_resampled, y_train_resampled)\n",
        "evaluate_model(\"Logistic Regression\", logreg, X_train_resampled, y_train_resampled, X_valid, y_valid)\n",
        "\n",
        "rf = RandomForestClassifier(n_estimators=50, random_state=42, class_weight='balanced')\n",
        "rf.fit(X_train_resampled, y_train_resampled)\n",
        "evaluate_model(\"Random Forest\", rf, X_train_resampled, y_train_resampled, X_valid, y_valid)\n",
        "\n",
        "lgb_model = lgb.LGBMClassifier(n_estimators=100, random_state=42,\n",
        "                               scale_pos_weight=scale_pos_weight)\n",
        "lgb_model.fit(X_train_resampled, y_train_resampled)\n",
        "evaluate_model(\"LightGBM\", lgb_model, X_train_resampled, y_train_resampled, X_valid, y_valid)"
      ]
    },
    {
      "cell_type": "markdown",
      "metadata": {
        "id": "7mlXuxLzGgXm"
      },
      "source": [
        "**Ensemble Stacking**"
      ]
    },
    {
      "cell_type": "code",
      "execution_count": null,
      "metadata": {
        "id": "pAbVJFOeGjae"
      },
      "outputs": [],
      "source": [
        "from sklearn.metrics import f1_score, balanced_accuracy_score, roc_auc_score, confusion_matrix\n",
        "\n",
        "def evaluate_model_balacc(name, model, X_train, y_train, X_val, y_val):\n",
        "    \"\"\"\n",
        "    Mengevaluasi model dengan metrik F1, Balanced Accuracy, AUC, dan Confusion Matrix\n",
        "    pada data training dan validasi.\n",
        "\n",
        "    Parameters:\n",
        "    - name  : Nama model (string)\n",
        "    - model : Objek model yang sudah dilatih\n",
        "    - X_train, y_train : Data latih\n",
        "    - X_val, y_val     : Data validasi/test\n",
        "    \"\"\"\n",
        "    print(f\"\\n=== {name} ===\")\n",
        "\n",
        "    def evaluate_split(split_name, X, y):\n",
        "        y_pred = model.predict(X)\n",
        "        y_prob = model.predict_proba(X)[:, 1] if hasattr(model, \"predict_proba\") else None\n",
        "\n",
        "        f1 = f1_score(y, y_pred)\n",
        "        bal_acc = balanced_accuracy_score(y, y_pred)\n",
        "        auc = roc_auc_score(y, y_prob) if y_prob is not None else \"N/A\"\n",
        "\n",
        "        print(f\"\\n--- {split_name} ---\")\n",
        "        print(f\"F1 Score          : {round(f1, 4)}\")\n",
        "        print(f\"Balanced Accuracy : {round(bal_acc, 4)}\")\n",
        "        print(f\"AUC Score         : {round(auc, 4) if auc != 'N/A' else 'N/A'}\")\n",
        "        print(\"Confusion Matrix  :\\n\", confusion_matrix(y, y_pred))\n",
        "\n",
        "    evaluate_split(\"Train\", X_train, y_train)\n",
        "    evaluate_split(\"Validation/Test\", X_val, y_val)"
      ]
    },
    {
      "cell_type": "code",
      "execution_count": null,
      "metadata": {
        "colab": {
          "base_uri": "https://localhost:8080/"
        },
        "id": "T-w3w6PBGmOB",
        "outputId": "9a979c07-78cd-4972-f443-17cf37c75bb4"
      },
      "outputs": [],
      "source": [
        "from sklearn.ensemble import StackingClassifier\n",
        "from xgboost import XGBClassifier\n",
        "from sklearn.metrics import balanced_accuracy_score\n",
        "\n",
        "base_estimators = [\n",
        "    ('rf', best_rf_model),\n",
        "    ('lgbm', best_lgb_model)\n",
        "]\n",
        "\n",
        "meta_learner = XGBClassifier(\n",
        "    n_estimators=100,\n",
        "    learning_rate=0.1,\n",
        "    use_label_encoder=False,\n",
        "    eval_metric='logloss',\n",
        "    random_state=42\n",
        ")\n",
        "\n",
        "stacking_model = StackingClassifier(\n",
        "    estimators=base_estimators,\n",
        "    final_estimator=meta_learner,\n",
        "    passthrough=False,\n",
        "    cv=5,\n",
        "    n_jobs=-1\n",
        ")\n",
        "\n",
        "stacking_model.fit(X_train_resampled, y_train_resampled)\n",
        "\n",
        "evaluate_model_balacc(\n",
        "    name=\"Stacking RF + LGBM + Meta XGB\",\n",
        "    model=stacking_model,\n",
        "    X_train=X_train_resampled,\n",
        "    y_train=y_train_resampled,\n",
        "    X_val=X_valid,\n",
        "    y_val=y_valid\n",
        ")"
      ]
    },
    {
      "cell_type": "code",
      "execution_count": null,
      "metadata": {
        "colab": {
          "base_uri": "https://localhost:8080/",
          "height": 792
        },
        "id": "4Cp1EbZqxGtV",
        "outputId": "3e59cd41-dd6c-4810-f8a2-e42519f8d8e7"
      },
      "outputs": [],
      "source": [
        "import shap\n",
        "\n",
        "X_sample = X_valid.sample(n=200, random_state=42)\n",
        "\n",
        "explainer = shap.TreeExplainer(best_lgb_model)\n",
        "shap_values = explainer.shap_values(X_sample)\n",
        "\n",
        "shap.summary_plot(shap_values, X_sample, max_display=15)"
      ]
    },
    {
      "cell_type": "code",
      "execution_count": null,
      "metadata": {
        "colab": {
          "base_uri": "https://localhost:8080/",
          "height": 697
        },
        "id": "lFpdOKHi3ciC",
        "outputId": "7a699d1d-2b2a-4164-c01c-35aaa8c5c7ad"
      },
      "outputs": [],
      "source": [
        "shap_inter = shap.TreeExplainer(best_lgb_model).shap_interaction_values(X_sample)\n",
        "shap.summary_plot(shap_inter, X_sample)"
      ]
    },
    {
      "cell_type": "code",
      "execution_count": null,
      "metadata": {
        "id": "BJp1fTqFhMD6"
      },
      "outputs": [],
      "source": [
        "data_test = data_test[(data_train.drop(columns=['next_buy'])).columns]"
      ]
    },
    {
      "cell_type": "code",
      "execution_count": null,
      "metadata": {
        "colab": {
          "base_uri": "https://localhost:8080/",
          "height": 17
        },
        "id": "eFsI7qcSgPpZ",
        "outputId": "446b6ea6-531e-496c-8ed8-ec3e9d63d53c"
      },
      "outputs": [],
      "source": [
        "predictions = rf.predict(data_test_feat)\n",
        "\n",
        "submission = pd.DataFrame({\n",
        "    'MemberID': test['MemberID'],\n",
        "    'next_buy': predictions.astype(int)\n",
        "})\n",
        "\n",
        "submission = submission.drop_duplicates(subset='MemberID', keep='first')\n",
        "\n",
        "submission.to_csv('submission_rf.csv', index=False)\n",
        "\n",
        "from google.colab import files\n",
        "files.download('submission_rf.csv')"
      ]
    },
    {
      "cell_type": "code",
      "execution_count": null,
      "metadata": {
        "colab": {
          "base_uri": "https://localhost:8080/",
          "height": 17
        },
        "id": "j2KOfJyPgQ3n",
        "outputId": "cf3ffd8a-8cae-4eb3-ae99-aab30e20415b"
      },
      "outputs": [],
      "source": [
        "predictions = best_lgb_model.predict(data_test_feat)\n",
        "\n",
        "submission = pd.DataFrame({\n",
        "    'MemberID': test['MemberID'],\n",
        "    'next_buy': predictions.astype(int)\n",
        "})\n",
        "\n",
        "submission = submission.drop_duplicates(subset='MemberID', keep='first')\n",
        "\n",
        "submission.to_csv('submission_lgb_optuna_fulltrain.csv', index=False)\n",
        "\n",
        "from google.colab import files\n",
        "files.download('submission_lgb_optuna_fulltrain.csv')"
      ]
    },
    {
      "cell_type": "code",
      "execution_count": null,
      "metadata": {
        "colab": {
          "base_uri": "https://localhost:8080/",
          "height": 17
        },
        "id": "QC922mVrHfvi",
        "outputId": "495c10d4-3aac-48fb-a7a5-0e397856e275"
      },
      "outputs": [],
      "source": [
        "predictions = predictor.predict(data_test_feat)\n",
        "\n",
        "submission = pd.DataFrame({\n",
        "    'MemberID': test['MemberID'],\n",
        "    'next_buy': predictions.astype(int)\n",
        "})\n",
        "\n",
        "submission = submission.drop_duplicates(subset='MemberID', keep='first')\n",
        "\n",
        "submission.to_csv('submission_auto_best.csv', index=False)\n",
        "\n",
        "from google.colab import files\n",
        "files.download('submission_auto_best.csv')"
      ]
    },
    {
      "cell_type": "code",
      "execution_count": null,
      "metadata": {
        "colab": {
          "base_uri": "https://localhost:8080/",
          "height": 178
        },
        "id": "OTbYX7LwITOS",
        "outputId": "ca12b89b-7bd0-4071-daf2-59d907864499"
      },
      "outputs": [],
      "source": [
        "submission['next_buy'].value_counts()"
      ]
    },
    {
      "cell_type": "code",
      "execution_count": null,
      "metadata": {
        "id": "MyHHWcitLj4J"
      },
      "outputs": [],
      "source": [
        "submission = pd.DataFrame({\n",
        "    'MemberID': data_test['MemberID'],\n",
        "    'next_buy': predictions.astype(int)\n",
        "})\n",
        "\n",
        "submission.to_csv('submission.csv', index=False)"
      ]
    }
  ],
  "metadata": {
    "colab": {
      "provenance": []
    },
    "kernelspec": {
      "display_name": "Python 3",
      "name": "python3"
    },
    "language_info": {
      "name": "python"
    },
    "widgets": {
      "application/vnd.jupyter.widget-state+json": {
        "02841ac974414b688ca30c0b6ddf045a": {
          "model_module": "@jupyter-widgets/controls",
          "model_module_version": "1.5.0",
          "model_name": "DescriptionStyleModel",
          "state": {
            "_model_module": "@jupyter-widgets/controls",
            "_model_module_version": "1.5.0",
            "_model_name": "DescriptionStyleModel",
            "_view_count": null,
            "_view_module": "@jupyter-widgets/base",
            "_view_module_version": "1.2.0",
            "_view_name": "StyleView",
            "description_width": ""
          }
        },
        "057cc914e1374a8fae503a3030af0a2b": {
          "model_module": "@jupyter-widgets/controls",
          "model_module_version": "1.5.0",
          "model_name": "HTMLModel",
          "state": {
            "_dom_classes": [],
            "_model_module": "@jupyter-widgets/controls",
            "_model_module_version": "1.5.0",
            "_model_name": "HTMLModel",
            "_view_count": null,
            "_view_module": "@jupyter-widgets/controls",
            "_view_module_version": "1.5.0",
            "_view_name": "HTMLView",
            "description": "",
            "description_tooltip": null,
            "layout": "IPY_MODEL_b100aef5e4c64203a4fdbd86f17ffd2b",
            "placeholder": "​",
            "style": "IPY_MODEL_cb442beadb2a4e10a4d3758aba32b561",
            "value": " 100/100 [9:28:11&lt;00:00, 417.62s/it]"
          }
        },
        "06a84a68599e429a905941c70cdf83c6": {
          "model_module": "@jupyter-widgets/controls",
          "model_module_version": "1.5.0",
          "model_name": "HTMLModel",
          "state": {
            "_dom_classes": [],
            "_model_module": "@jupyter-widgets/controls",
            "_model_module_version": "1.5.0",
            "_model_name": "HTMLModel",
            "_view_count": null,
            "_view_module": "@jupyter-widgets/controls",
            "_view_module_version": "1.5.0",
            "_view_name": "HTMLView",
            "description": "",
            "description_tooltip": null,
            "layout": "IPY_MODEL_7491832042c34091ae464127aada1c39",
            "placeholder": "​",
            "style": "IPY_MODEL_98da41926cb247b8bfff45c08a975ab2",
            "value": " 70/100 [11:28:29&lt;2:44:43, 329.46s/it]"
          }
        },
        "0b870101dfef48d9b53293e0a0cf0869": {
          "model_module": "@jupyter-widgets/base",
          "model_module_version": "1.2.0",
          "model_name": "LayoutModel",
          "state": {
            "_model_module": "@jupyter-widgets/base",
            "_model_module_version": "1.2.0",
            "_model_name": "LayoutModel",
            "_view_count": null,
            "_view_module": "@jupyter-widgets/base",
            "_view_module_version": "1.2.0",
            "_view_name": "LayoutView",
            "align_content": null,
            "align_items": null,
            "align_self": null,
            "border": null,
            "bottom": null,
            "display": null,
            "flex": null,
            "flex_flow": null,
            "grid_area": null,
            "grid_auto_columns": null,
            "grid_auto_flow": null,
            "grid_auto_rows": null,
            "grid_column": null,
            "grid_gap": null,
            "grid_row": null,
            "grid_template_areas": null,
            "grid_template_columns": null,
            "grid_template_rows": null,
            "height": null,
            "justify_content": null,
            "justify_items": null,
            "left": null,
            "margin": null,
            "max_height": null,
            "max_width": null,
            "min_height": null,
            "min_width": null,
            "object_fit": null,
            "object_position": null,
            "order": null,
            "overflow": null,
            "overflow_x": null,
            "overflow_y": null,
            "padding": null,
            "right": null,
            "top": null,
            "visibility": null,
            "width": null
          }
        },
        "0ca6d94dcb5e4b64b3c58a506da0caa4": {
          "model_module": "@jupyter-widgets/controls",
          "model_module_version": "1.5.0",
          "model_name": "HTMLModel",
          "state": {
            "_dom_classes": [],
            "_model_module": "@jupyter-widgets/controls",
            "_model_module_version": "1.5.0",
            "_model_name": "HTMLModel",
            "_view_count": null,
            "_view_module": "@jupyter-widgets/controls",
            "_view_module_version": "1.5.0",
            "_view_name": "HTMLView",
            "description": "",
            "description_tooltip": null,
            "layout": "IPY_MODEL_aa5071ecd9b64448aee1a1245de682db",
            "placeholder": "​",
            "style": "IPY_MODEL_2c058ccbc326414591654c8221369f8b",
            "value": "Best trial: 89. Best value: 0.911859: 100%"
          }
        },
        "0f0f07ed2281467f81f88255b2c40320": {
          "model_module": "@jupyter-widgets/controls",
          "model_module_version": "1.5.0",
          "model_name": "FloatProgressModel",
          "state": {
            "_dom_classes": [],
            "_model_module": "@jupyter-widgets/controls",
            "_model_module_version": "1.5.0",
            "_model_name": "FloatProgressModel",
            "_view_count": null,
            "_view_module": "@jupyter-widgets/controls",
            "_view_module_version": "1.5.0",
            "_view_name": "ProgressView",
            "bar_style": "",
            "description": "",
            "description_tooltip": null,
            "layout": "IPY_MODEL_91b6396b2bc34281bc3444008a948935",
            "max": 100,
            "min": 0,
            "orientation": "horizontal",
            "style": "IPY_MODEL_6946f7948e484c81a1dfe2382b4edb3c",
            "value": 70
          }
        },
        "130b2a4f6b014e07ab0e5c15086b239e": {
          "model_module": "@jupyter-widgets/controls",
          "model_module_version": "1.5.0",
          "model_name": "HTMLModel",
          "state": {
            "_dom_classes": [],
            "_model_module": "@jupyter-widgets/controls",
            "_model_module_version": "1.5.0",
            "_model_name": "HTMLModel",
            "_view_count": null,
            "_view_module": "@jupyter-widgets/controls",
            "_view_module_version": "1.5.0",
            "_view_name": "HTMLView",
            "description": "",
            "description_tooltip": null,
            "layout": "IPY_MODEL_7acf97fde67f470cb34ca9b42b78baf0",
            "placeholder": "​",
            "style": "IPY_MODEL_50c46f1203434062a1776ffb664d75ff",
            "value": "Best trial: 68. Best value: 0.976915:  70%"
          }
        },
        "1549d72783cb4b13aab5825debe2c796": {
          "model_module": "@jupyter-widgets/base",
          "model_module_version": "1.2.0",
          "model_name": "LayoutModel",
          "state": {
            "_model_module": "@jupyter-widgets/base",
            "_model_module_version": "1.2.0",
            "_model_name": "LayoutModel",
            "_view_count": null,
            "_view_module": "@jupyter-widgets/base",
            "_view_module_version": "1.2.0",
            "_view_name": "LayoutView",
            "align_content": null,
            "align_items": null,
            "align_self": null,
            "border": null,
            "bottom": null,
            "display": null,
            "flex": null,
            "flex_flow": null,
            "grid_area": null,
            "grid_auto_columns": null,
            "grid_auto_flow": null,
            "grid_auto_rows": null,
            "grid_column": null,
            "grid_gap": null,
            "grid_row": null,
            "grid_template_areas": null,
            "grid_template_columns": null,
            "grid_template_rows": null,
            "height": null,
            "justify_content": null,
            "justify_items": null,
            "left": null,
            "margin": null,
            "max_height": null,
            "max_width": null,
            "min_height": null,
            "min_width": null,
            "object_fit": null,
            "object_position": null,
            "order": null,
            "overflow": null,
            "overflow_x": null,
            "overflow_y": null,
            "padding": null,
            "right": null,
            "top": null,
            "visibility": null,
            "width": null
          }
        },
        "17b872e6e2e8403790b9aa7d9661a57b": {
          "model_module": "@jupyter-widgets/controls",
          "model_module_version": "1.5.0",
          "model_name": "HTMLModel",
          "state": {
            "_dom_classes": [],
            "_model_module": "@jupyter-widgets/controls",
            "_model_module_version": "1.5.0",
            "_model_name": "HTMLModel",
            "_view_count": null,
            "_view_module": "@jupyter-widgets/controls",
            "_view_module_version": "1.5.0",
            "_view_name": "HTMLView",
            "description": "",
            "description_tooltip": null,
            "layout": "IPY_MODEL_3ff3e04086b84420953a384a2aaaa5ad",
            "placeholder": "​",
            "style": "IPY_MODEL_deb690ef112f4bcaae3b689eec3dc8c5",
            "value": "Best trial: 53. Best value: 0.769734: 100%"
          }
        },
        "1af0f32be89d4858ba711c8472b66714": {
          "model_module": "@jupyter-widgets/controls",
          "model_module_version": "1.5.0",
          "model_name": "HBoxModel",
          "state": {
            "_dom_classes": [],
            "_model_module": "@jupyter-widgets/controls",
            "_model_module_version": "1.5.0",
            "_model_name": "HBoxModel",
            "_view_count": null,
            "_view_module": "@jupyter-widgets/controls",
            "_view_module_version": "1.5.0",
            "_view_name": "HBoxView",
            "box_style": "",
            "children": [
              "IPY_MODEL_0ca6d94dcb5e4b64b3c58a506da0caa4",
              "IPY_MODEL_4e8a12068fd14da7a9dd96473f1dc8c7",
              "IPY_MODEL_057cc914e1374a8fae503a3030af0a2b"
            ],
            "layout": "IPY_MODEL_e4e7c756132c478b93641bed6f49a0c5"
          }
        },
        "1ed99fd7a58349cdaaca9bc02fe3839f": {
          "model_module": "@jupyter-widgets/base",
          "model_module_version": "1.2.0",
          "model_name": "LayoutModel",
          "state": {
            "_model_module": "@jupyter-widgets/base",
            "_model_module_version": "1.2.0",
            "_model_name": "LayoutModel",
            "_view_count": null,
            "_view_module": "@jupyter-widgets/base",
            "_view_module_version": "1.2.0",
            "_view_name": "LayoutView",
            "align_content": null,
            "align_items": null,
            "align_self": null,
            "border": null,
            "bottom": null,
            "display": null,
            "flex": null,
            "flex_flow": null,
            "grid_area": null,
            "grid_auto_columns": null,
            "grid_auto_flow": null,
            "grid_auto_rows": null,
            "grid_column": null,
            "grid_gap": null,
            "grid_row": null,
            "grid_template_areas": null,
            "grid_template_columns": null,
            "grid_template_rows": null,
            "height": null,
            "justify_content": null,
            "justify_items": null,
            "left": null,
            "margin": null,
            "max_height": null,
            "max_width": null,
            "min_height": null,
            "min_width": null,
            "object_fit": null,
            "object_position": null,
            "order": null,
            "overflow": null,
            "overflow_x": null,
            "overflow_y": null,
            "padding": null,
            "right": null,
            "top": null,
            "visibility": null,
            "width": null
          }
        },
        "2c058ccbc326414591654c8221369f8b": {
          "model_module": "@jupyter-widgets/controls",
          "model_module_version": "1.5.0",
          "model_name": "DescriptionStyleModel",
          "state": {
            "_model_module": "@jupyter-widgets/controls",
            "_model_module_version": "1.5.0",
            "_model_name": "DescriptionStyleModel",
            "_view_count": null,
            "_view_module": "@jupyter-widgets/base",
            "_view_module_version": "1.2.0",
            "_view_name": "StyleView",
            "description_width": ""
          }
        },
        "310cc415a6ea471da160f17a2e79bd00": {
          "model_module": "@jupyter-widgets/base",
          "model_module_version": "1.2.0",
          "model_name": "LayoutModel",
          "state": {
            "_model_module": "@jupyter-widgets/base",
            "_model_module_version": "1.2.0",
            "_model_name": "LayoutModel",
            "_view_count": null,
            "_view_module": "@jupyter-widgets/base",
            "_view_module_version": "1.2.0",
            "_view_name": "LayoutView",
            "align_content": null,
            "align_items": null,
            "align_self": null,
            "border": null,
            "bottom": null,
            "display": null,
            "flex": null,
            "flex_flow": null,
            "grid_area": null,
            "grid_auto_columns": null,
            "grid_auto_flow": null,
            "grid_auto_rows": null,
            "grid_column": null,
            "grid_gap": null,
            "grid_row": null,
            "grid_template_areas": null,
            "grid_template_columns": null,
            "grid_template_rows": null,
            "height": null,
            "justify_content": null,
            "justify_items": null,
            "left": null,
            "margin": null,
            "max_height": null,
            "max_width": null,
            "min_height": null,
            "min_width": null,
            "object_fit": null,
            "object_position": null,
            "order": null,
            "overflow": null,
            "overflow_x": null,
            "overflow_y": null,
            "padding": null,
            "right": null,
            "top": null,
            "visibility": null,
            "width": null
          }
        },
        "3c770e1885374ad88f4e7bcad328dc3b": {
          "model_module": "@jupyter-widgets/base",
          "model_module_version": "1.2.0",
          "model_name": "LayoutModel",
          "state": {
            "_model_module": "@jupyter-widgets/base",
            "_model_module_version": "1.2.0",
            "_model_name": "LayoutModel",
            "_view_count": null,
            "_view_module": "@jupyter-widgets/base",
            "_view_module_version": "1.2.0",
            "_view_name": "LayoutView",
            "align_content": null,
            "align_items": null,
            "align_self": null,
            "border": null,
            "bottom": null,
            "display": null,
            "flex": null,
            "flex_flow": null,
            "grid_area": null,
            "grid_auto_columns": null,
            "grid_auto_flow": null,
            "grid_auto_rows": null,
            "grid_column": null,
            "grid_gap": null,
            "grid_row": null,
            "grid_template_areas": null,
            "grid_template_columns": null,
            "grid_template_rows": null,
            "height": null,
            "justify_content": null,
            "justify_items": null,
            "left": null,
            "margin": null,
            "max_height": null,
            "max_width": null,
            "min_height": null,
            "min_width": null,
            "object_fit": null,
            "object_position": null,
            "order": null,
            "overflow": null,
            "overflow_x": null,
            "overflow_y": null,
            "padding": null,
            "right": null,
            "top": null,
            "visibility": null,
            "width": null
          }
        },
        "3ff3e04086b84420953a384a2aaaa5ad": {
          "model_module": "@jupyter-widgets/base",
          "model_module_version": "1.2.0",
          "model_name": "LayoutModel",
          "state": {
            "_model_module": "@jupyter-widgets/base",
            "_model_module_version": "1.2.0",
            "_model_name": "LayoutModel",
            "_view_count": null,
            "_view_module": "@jupyter-widgets/base",
            "_view_module_version": "1.2.0",
            "_view_name": "LayoutView",
            "align_content": null,
            "align_items": null,
            "align_self": null,
            "border": null,
            "bottom": null,
            "display": null,
            "flex": null,
            "flex_flow": null,
            "grid_area": null,
            "grid_auto_columns": null,
            "grid_auto_flow": null,
            "grid_auto_rows": null,
            "grid_column": null,
            "grid_gap": null,
            "grid_row": null,
            "grid_template_areas": null,
            "grid_template_columns": null,
            "grid_template_rows": null,
            "height": null,
            "justify_content": null,
            "justify_items": null,
            "left": null,
            "margin": null,
            "max_height": null,
            "max_width": null,
            "min_height": null,
            "min_width": null,
            "object_fit": null,
            "object_position": null,
            "order": null,
            "overflow": null,
            "overflow_x": null,
            "overflow_y": null,
            "padding": null,
            "right": null,
            "top": null,
            "visibility": null,
            "width": null
          }
        },
        "445616afbc794f6695b64caca4c502db": {
          "model_module": "@jupyter-widgets/controls",
          "model_module_version": "1.5.0",
          "model_name": "DescriptionStyleModel",
          "state": {
            "_model_module": "@jupyter-widgets/controls",
            "_model_module_version": "1.5.0",
            "_model_name": "DescriptionStyleModel",
            "_view_count": null,
            "_view_module": "@jupyter-widgets/base",
            "_view_module_version": "1.2.0",
            "_view_name": "StyleView",
            "description_width": ""
          }
        },
        "4e8a12068fd14da7a9dd96473f1dc8c7": {
          "model_module": "@jupyter-widgets/controls",
          "model_module_version": "1.5.0",
          "model_name": "FloatProgressModel",
          "state": {
            "_dom_classes": [],
            "_model_module": "@jupyter-widgets/controls",
            "_model_module_version": "1.5.0",
            "_model_name": "FloatProgressModel",
            "_view_count": null,
            "_view_module": "@jupyter-widgets/controls",
            "_view_module_version": "1.5.0",
            "_view_name": "ProgressView",
            "bar_style": "success",
            "description": "",
            "description_tooltip": null,
            "layout": "IPY_MODEL_881c6e746ff84ee7b0cbbbe12ed5e5b9",
            "max": 100,
            "min": 0,
            "orientation": "horizontal",
            "style": "IPY_MODEL_f967b649169d487f8bba5524335053ef",
            "value": 100
          }
        },
        "50c46f1203434062a1776ffb664d75ff": {
          "model_module": "@jupyter-widgets/controls",
          "model_module_version": "1.5.0",
          "model_name": "DescriptionStyleModel",
          "state": {
            "_model_module": "@jupyter-widgets/controls",
            "_model_module_version": "1.5.0",
            "_model_name": "DescriptionStyleModel",
            "_view_count": null,
            "_view_module": "@jupyter-widgets/base",
            "_view_module_version": "1.2.0",
            "_view_name": "StyleView",
            "description_width": ""
          }
        },
        "53b29fce995c4e06a3072cac39e25840": {
          "model_module": "@jupyter-widgets/controls",
          "model_module_version": "1.5.0",
          "model_name": "HBoxModel",
          "state": {
            "_dom_classes": [],
            "_model_module": "@jupyter-widgets/controls",
            "_model_module_version": "1.5.0",
            "_model_name": "HBoxModel",
            "_view_count": null,
            "_view_module": "@jupyter-widgets/controls",
            "_view_module_version": "1.5.0",
            "_view_name": "HBoxView",
            "box_style": "",
            "children": [
              "IPY_MODEL_b58d3f63266642cdbebc1988303ca05e",
              "IPY_MODEL_64de57c11d22425caefa6d6b5f6797f7",
              "IPY_MODEL_6a79db46bc7046e4bbc781920a7b62d8"
            ],
            "layout": "IPY_MODEL_1549d72783cb4b13aab5825debe2c796"
          }
        },
        "5c43123918174500a72680d61ff854c2": {
          "model_module": "@jupyter-widgets/controls",
          "model_module_version": "1.5.0",
          "model_name": "FloatProgressModel",
          "state": {
            "_dom_classes": [],
            "_model_module": "@jupyter-widgets/controls",
            "_model_module_version": "1.5.0",
            "_model_name": "FloatProgressModel",
            "_view_count": null,
            "_view_module": "@jupyter-widgets/controls",
            "_view_module_version": "1.5.0",
            "_view_name": "ProgressView",
            "bar_style": "success",
            "description": "",
            "description_tooltip": null,
            "layout": "IPY_MODEL_0b870101dfef48d9b53293e0a0cf0869",
            "max": 100,
            "min": 0,
            "orientation": "horizontal",
            "style": "IPY_MODEL_eb8b94f83d27450ab322dce332a313a4",
            "value": 100
          }
        },
        "64de57c11d22425caefa6d6b5f6797f7": {
          "model_module": "@jupyter-widgets/controls",
          "model_module_version": "1.5.0",
          "model_name": "FloatProgressModel",
          "state": {
            "_dom_classes": [],
            "_model_module": "@jupyter-widgets/controls",
            "_model_module_version": "1.5.0",
            "_model_name": "FloatProgressModel",
            "_view_count": null,
            "_view_module": "@jupyter-widgets/controls",
            "_view_module_version": "1.5.0",
            "_view_name": "ProgressView",
            "bar_style": "success",
            "description": "",
            "description_tooltip": null,
            "layout": "IPY_MODEL_7ea543289b634783827036cf4f2388c8",
            "max": 30,
            "min": 0,
            "orientation": "horizontal",
            "style": "IPY_MODEL_ec831d8f992f45a5b1150cbc43ad15cd",
            "value": 30
          }
        },
        "6946f7948e484c81a1dfe2382b4edb3c": {
          "model_module": "@jupyter-widgets/controls",
          "model_module_version": "1.5.0",
          "model_name": "ProgressStyleModel",
          "state": {
            "_model_module": "@jupyter-widgets/controls",
            "_model_module_version": "1.5.0",
            "_model_name": "ProgressStyleModel",
            "_view_count": null,
            "_view_module": "@jupyter-widgets/base",
            "_view_module_version": "1.2.0",
            "_view_name": "StyleView",
            "bar_color": null,
            "description_width": ""
          }
        },
        "6a79db46bc7046e4bbc781920a7b62d8": {
          "model_module": "@jupyter-widgets/controls",
          "model_module_version": "1.5.0",
          "model_name": "HTMLModel",
          "state": {
            "_dom_classes": [],
            "_model_module": "@jupyter-widgets/controls",
            "_model_module_version": "1.5.0",
            "_model_name": "HTMLModel",
            "_view_count": null,
            "_view_module": "@jupyter-widgets/controls",
            "_view_module_version": "1.5.0",
            "_view_name": "HTMLView",
            "description": "",
            "description_tooltip": null,
            "layout": "IPY_MODEL_3c770e1885374ad88f4e7bcad328dc3b",
            "placeholder": "​",
            "style": "IPY_MODEL_02841ac974414b688ca30c0b6ddf045a",
            "value": " 30/30 [4:33:51&lt;00:00, 398.80s/it]"
          }
        },
        "7491832042c34091ae464127aada1c39": {
          "model_module": "@jupyter-widgets/base",
          "model_module_version": "1.2.0",
          "model_name": "LayoutModel",
          "state": {
            "_model_module": "@jupyter-widgets/base",
            "_model_module_version": "1.2.0",
            "_model_name": "LayoutModel",
            "_view_count": null,
            "_view_module": "@jupyter-widgets/base",
            "_view_module_version": "1.2.0",
            "_view_name": "LayoutView",
            "align_content": null,
            "align_items": null,
            "align_self": null,
            "border": null,
            "bottom": null,
            "display": null,
            "flex": null,
            "flex_flow": null,
            "grid_area": null,
            "grid_auto_columns": null,
            "grid_auto_flow": null,
            "grid_auto_rows": null,
            "grid_column": null,
            "grid_gap": null,
            "grid_row": null,
            "grid_template_areas": null,
            "grid_template_columns": null,
            "grid_template_rows": null,
            "height": null,
            "justify_content": null,
            "justify_items": null,
            "left": null,
            "margin": null,
            "max_height": null,
            "max_width": null,
            "min_height": null,
            "min_width": null,
            "object_fit": null,
            "object_position": null,
            "order": null,
            "overflow": null,
            "overflow_x": null,
            "overflow_y": null,
            "padding": null,
            "right": null,
            "top": null,
            "visibility": null,
            "width": null
          }
        },
        "7a80d65052bc4d03afce8566f33350d4": {
          "model_module": "@jupyter-widgets/controls",
          "model_module_version": "1.5.0",
          "model_name": "HBoxModel",
          "state": {
            "_dom_classes": [],
            "_model_module": "@jupyter-widgets/controls",
            "_model_module_version": "1.5.0",
            "_model_name": "HBoxModel",
            "_view_count": null,
            "_view_module": "@jupyter-widgets/controls",
            "_view_module_version": "1.5.0",
            "_view_name": "HBoxView",
            "box_style": "",
            "children": [
              "IPY_MODEL_130b2a4f6b014e07ab0e5c15086b239e",
              "IPY_MODEL_0f0f07ed2281467f81f88255b2c40320",
              "IPY_MODEL_06a84a68599e429a905941c70cdf83c6"
            ],
            "layout": "IPY_MODEL_a1402503b2bb423fa4d0ad74bf63b883"
          }
        },
        "7acf97fde67f470cb34ca9b42b78baf0": {
          "model_module": "@jupyter-widgets/base",
          "model_module_version": "1.2.0",
          "model_name": "LayoutModel",
          "state": {
            "_model_module": "@jupyter-widgets/base",
            "_model_module_version": "1.2.0",
            "_model_name": "LayoutModel",
            "_view_count": null,
            "_view_module": "@jupyter-widgets/base",
            "_view_module_version": "1.2.0",
            "_view_name": "LayoutView",
            "align_content": null,
            "align_items": null,
            "align_self": null,
            "border": null,
            "bottom": null,
            "display": null,
            "flex": null,
            "flex_flow": null,
            "grid_area": null,
            "grid_auto_columns": null,
            "grid_auto_flow": null,
            "grid_auto_rows": null,
            "grid_column": null,
            "grid_gap": null,
            "grid_row": null,
            "grid_template_areas": null,
            "grid_template_columns": null,
            "grid_template_rows": null,
            "height": null,
            "justify_content": null,
            "justify_items": null,
            "left": null,
            "margin": null,
            "max_height": null,
            "max_width": null,
            "min_height": null,
            "min_width": null,
            "object_fit": null,
            "object_position": null,
            "order": null,
            "overflow": null,
            "overflow_x": null,
            "overflow_y": null,
            "padding": null,
            "right": null,
            "top": null,
            "visibility": null,
            "width": null
          }
        },
        "7ea543289b634783827036cf4f2388c8": {
          "model_module": "@jupyter-widgets/base",
          "model_module_version": "1.2.0",
          "model_name": "LayoutModel",
          "state": {
            "_model_module": "@jupyter-widgets/base",
            "_model_module_version": "1.2.0",
            "_model_name": "LayoutModel",
            "_view_count": null,
            "_view_module": "@jupyter-widgets/base",
            "_view_module_version": "1.2.0",
            "_view_name": "LayoutView",
            "align_content": null,
            "align_items": null,
            "align_self": null,
            "border": null,
            "bottom": null,
            "display": null,
            "flex": null,
            "flex_flow": null,
            "grid_area": null,
            "grid_auto_columns": null,
            "grid_auto_flow": null,
            "grid_auto_rows": null,
            "grid_column": null,
            "grid_gap": null,
            "grid_row": null,
            "grid_template_areas": null,
            "grid_template_columns": null,
            "grid_template_rows": null,
            "height": null,
            "justify_content": null,
            "justify_items": null,
            "left": null,
            "margin": null,
            "max_height": null,
            "max_width": null,
            "min_height": null,
            "min_width": null,
            "object_fit": null,
            "object_position": null,
            "order": null,
            "overflow": null,
            "overflow_x": null,
            "overflow_y": null,
            "padding": null,
            "right": null,
            "top": null,
            "visibility": null,
            "width": null
          }
        },
        "881c6e746ff84ee7b0cbbbe12ed5e5b9": {
          "model_module": "@jupyter-widgets/base",
          "model_module_version": "1.2.0",
          "model_name": "LayoutModel",
          "state": {
            "_model_module": "@jupyter-widgets/base",
            "_model_module_version": "1.2.0",
            "_model_name": "LayoutModel",
            "_view_count": null,
            "_view_module": "@jupyter-widgets/base",
            "_view_module_version": "1.2.0",
            "_view_name": "LayoutView",
            "align_content": null,
            "align_items": null,
            "align_self": null,
            "border": null,
            "bottom": null,
            "display": null,
            "flex": null,
            "flex_flow": null,
            "grid_area": null,
            "grid_auto_columns": null,
            "grid_auto_flow": null,
            "grid_auto_rows": null,
            "grid_column": null,
            "grid_gap": null,
            "grid_row": null,
            "grid_template_areas": null,
            "grid_template_columns": null,
            "grid_template_rows": null,
            "height": null,
            "justify_content": null,
            "justify_items": null,
            "left": null,
            "margin": null,
            "max_height": null,
            "max_width": null,
            "min_height": null,
            "min_width": null,
            "object_fit": null,
            "object_position": null,
            "order": null,
            "overflow": null,
            "overflow_x": null,
            "overflow_y": null,
            "padding": null,
            "right": null,
            "top": null,
            "visibility": null,
            "width": null
          }
        },
        "885c515be90948ae9fd46b310189f4e2": {
          "model_module": "@jupyter-widgets/base",
          "model_module_version": "1.2.0",
          "model_name": "LayoutModel",
          "state": {
            "_model_module": "@jupyter-widgets/base",
            "_model_module_version": "1.2.0",
            "_model_name": "LayoutModel",
            "_view_count": null,
            "_view_module": "@jupyter-widgets/base",
            "_view_module_version": "1.2.0",
            "_view_name": "LayoutView",
            "align_content": null,
            "align_items": null,
            "align_self": null,
            "border": null,
            "bottom": null,
            "display": null,
            "flex": null,
            "flex_flow": null,
            "grid_area": null,
            "grid_auto_columns": null,
            "grid_auto_flow": null,
            "grid_auto_rows": null,
            "grid_column": null,
            "grid_gap": null,
            "grid_row": null,
            "grid_template_areas": null,
            "grid_template_columns": null,
            "grid_template_rows": null,
            "height": null,
            "justify_content": null,
            "justify_items": null,
            "left": null,
            "margin": null,
            "max_height": null,
            "max_width": null,
            "min_height": null,
            "min_width": null,
            "object_fit": null,
            "object_position": null,
            "order": null,
            "overflow": null,
            "overflow_x": null,
            "overflow_y": null,
            "padding": null,
            "right": null,
            "top": null,
            "visibility": null,
            "width": null
          }
        },
        "8d2d430f06ec4c25a70f0370e7df03a4": {
          "model_module": "@jupyter-widgets/controls",
          "model_module_version": "1.5.0",
          "model_name": "HTMLModel",
          "state": {
            "_dom_classes": [],
            "_model_module": "@jupyter-widgets/controls",
            "_model_module_version": "1.5.0",
            "_model_name": "HTMLModel",
            "_view_count": null,
            "_view_module": "@jupyter-widgets/controls",
            "_view_module_version": "1.5.0",
            "_view_name": "HTMLView",
            "description": "",
            "description_tooltip": null,
            "layout": "IPY_MODEL_1ed99fd7a58349cdaaca9bc02fe3839f",
            "placeholder": "​",
            "style": "IPY_MODEL_90269dc4f58742f0be584ee715771d93",
            "value": " 100/100 [2:00:33&lt;00:00, 30.74s/it]"
          }
        },
        "90269dc4f58742f0be584ee715771d93": {
          "model_module": "@jupyter-widgets/controls",
          "model_module_version": "1.5.0",
          "model_name": "DescriptionStyleModel",
          "state": {
            "_model_module": "@jupyter-widgets/controls",
            "_model_module_version": "1.5.0",
            "_model_name": "DescriptionStyleModel",
            "_view_count": null,
            "_view_module": "@jupyter-widgets/base",
            "_view_module_version": "1.2.0",
            "_view_name": "StyleView",
            "description_width": ""
          }
        },
        "91b6396b2bc34281bc3444008a948935": {
          "model_module": "@jupyter-widgets/base",
          "model_module_version": "1.2.0",
          "model_name": "LayoutModel",
          "state": {
            "_model_module": "@jupyter-widgets/base",
            "_model_module_version": "1.2.0",
            "_model_name": "LayoutModel",
            "_view_count": null,
            "_view_module": "@jupyter-widgets/base",
            "_view_module_version": "1.2.0",
            "_view_name": "LayoutView",
            "align_content": null,
            "align_items": null,
            "align_self": null,
            "border": null,
            "bottom": null,
            "display": null,
            "flex": null,
            "flex_flow": null,
            "grid_area": null,
            "grid_auto_columns": null,
            "grid_auto_flow": null,
            "grid_auto_rows": null,
            "grid_column": null,
            "grid_gap": null,
            "grid_row": null,
            "grid_template_areas": null,
            "grid_template_columns": null,
            "grid_template_rows": null,
            "height": null,
            "justify_content": null,
            "justify_items": null,
            "left": null,
            "margin": null,
            "max_height": null,
            "max_width": null,
            "min_height": null,
            "min_width": null,
            "object_fit": null,
            "object_position": null,
            "order": null,
            "overflow": null,
            "overflow_x": null,
            "overflow_y": null,
            "padding": null,
            "right": null,
            "top": null,
            "visibility": null,
            "width": null
          }
        },
        "98da41926cb247b8bfff45c08a975ab2": {
          "model_module": "@jupyter-widgets/controls",
          "model_module_version": "1.5.0",
          "model_name": "DescriptionStyleModel",
          "state": {
            "_model_module": "@jupyter-widgets/controls",
            "_model_module_version": "1.5.0",
            "_model_name": "DescriptionStyleModel",
            "_view_count": null,
            "_view_module": "@jupyter-widgets/base",
            "_view_module_version": "1.2.0",
            "_view_name": "StyleView",
            "description_width": ""
          }
        },
        "a1402503b2bb423fa4d0ad74bf63b883": {
          "model_module": "@jupyter-widgets/base",
          "model_module_version": "1.2.0",
          "model_name": "LayoutModel",
          "state": {
            "_model_module": "@jupyter-widgets/base",
            "_model_module_version": "1.2.0",
            "_model_name": "LayoutModel",
            "_view_count": null,
            "_view_module": "@jupyter-widgets/base",
            "_view_module_version": "1.2.0",
            "_view_name": "LayoutView",
            "align_content": null,
            "align_items": null,
            "align_self": null,
            "border": null,
            "bottom": null,
            "display": null,
            "flex": null,
            "flex_flow": null,
            "grid_area": null,
            "grid_auto_columns": null,
            "grid_auto_flow": null,
            "grid_auto_rows": null,
            "grid_column": null,
            "grid_gap": null,
            "grid_row": null,
            "grid_template_areas": null,
            "grid_template_columns": null,
            "grid_template_rows": null,
            "height": null,
            "justify_content": null,
            "justify_items": null,
            "left": null,
            "margin": null,
            "max_height": null,
            "max_width": null,
            "min_height": null,
            "min_width": null,
            "object_fit": null,
            "object_position": null,
            "order": null,
            "overflow": null,
            "overflow_x": null,
            "overflow_y": null,
            "padding": null,
            "right": null,
            "top": null,
            "visibility": null,
            "width": null
          }
        },
        "aa5071ecd9b64448aee1a1245de682db": {
          "model_module": "@jupyter-widgets/base",
          "model_module_version": "1.2.0",
          "model_name": "LayoutModel",
          "state": {
            "_model_module": "@jupyter-widgets/base",
            "_model_module_version": "1.2.0",
            "_model_name": "LayoutModel",
            "_view_count": null,
            "_view_module": "@jupyter-widgets/base",
            "_view_module_version": "1.2.0",
            "_view_name": "LayoutView",
            "align_content": null,
            "align_items": null,
            "align_self": null,
            "border": null,
            "bottom": null,
            "display": null,
            "flex": null,
            "flex_flow": null,
            "grid_area": null,
            "grid_auto_columns": null,
            "grid_auto_flow": null,
            "grid_auto_rows": null,
            "grid_column": null,
            "grid_gap": null,
            "grid_row": null,
            "grid_template_areas": null,
            "grid_template_columns": null,
            "grid_template_rows": null,
            "height": null,
            "justify_content": null,
            "justify_items": null,
            "left": null,
            "margin": null,
            "max_height": null,
            "max_width": null,
            "min_height": null,
            "min_width": null,
            "object_fit": null,
            "object_position": null,
            "order": null,
            "overflow": null,
            "overflow_x": null,
            "overflow_y": null,
            "padding": null,
            "right": null,
            "top": null,
            "visibility": null,
            "width": null
          }
        },
        "b100aef5e4c64203a4fdbd86f17ffd2b": {
          "model_module": "@jupyter-widgets/base",
          "model_module_version": "1.2.0",
          "model_name": "LayoutModel",
          "state": {
            "_model_module": "@jupyter-widgets/base",
            "_model_module_version": "1.2.0",
            "_model_name": "LayoutModel",
            "_view_count": null,
            "_view_module": "@jupyter-widgets/base",
            "_view_module_version": "1.2.0",
            "_view_name": "LayoutView",
            "align_content": null,
            "align_items": null,
            "align_self": null,
            "border": null,
            "bottom": null,
            "display": null,
            "flex": null,
            "flex_flow": null,
            "grid_area": null,
            "grid_auto_columns": null,
            "grid_auto_flow": null,
            "grid_auto_rows": null,
            "grid_column": null,
            "grid_gap": null,
            "grid_row": null,
            "grid_template_areas": null,
            "grid_template_columns": null,
            "grid_template_rows": null,
            "height": null,
            "justify_content": null,
            "justify_items": null,
            "left": null,
            "margin": null,
            "max_height": null,
            "max_width": null,
            "min_height": null,
            "min_width": null,
            "object_fit": null,
            "object_position": null,
            "order": null,
            "overflow": null,
            "overflow_x": null,
            "overflow_y": null,
            "padding": null,
            "right": null,
            "top": null,
            "visibility": null,
            "width": null
          }
        },
        "b58d3f63266642cdbebc1988303ca05e": {
          "model_module": "@jupyter-widgets/controls",
          "model_module_version": "1.5.0",
          "model_name": "HTMLModel",
          "state": {
            "_dom_classes": [],
            "_model_module": "@jupyter-widgets/controls",
            "_model_module_version": "1.5.0",
            "_model_name": "HTMLModel",
            "_view_count": null,
            "_view_module": "@jupyter-widgets/controls",
            "_view_module_version": "1.5.0",
            "_view_name": "HTMLView",
            "description": "",
            "description_tooltip": null,
            "layout": "IPY_MODEL_310cc415a6ea471da160f17a2e79bd00",
            "placeholder": "​",
            "style": "IPY_MODEL_445616afbc794f6695b64caca4c502db",
            "value": "Best trial: 84. Best value: 0.977315: 100%"
          }
        },
        "bbc5d4a051d74aa882396ebee3d33421": {
          "model_module": "@jupyter-widgets/controls",
          "model_module_version": "1.5.0",
          "model_name": "HBoxModel",
          "state": {
            "_dom_classes": [],
            "_model_module": "@jupyter-widgets/controls",
            "_model_module_version": "1.5.0",
            "_model_name": "HBoxModel",
            "_view_count": null,
            "_view_module": "@jupyter-widgets/controls",
            "_view_module_version": "1.5.0",
            "_view_name": "HBoxView",
            "box_style": "",
            "children": [
              "IPY_MODEL_17b872e6e2e8403790b9aa7d9661a57b",
              "IPY_MODEL_5c43123918174500a72680d61ff854c2",
              "IPY_MODEL_8d2d430f06ec4c25a70f0370e7df03a4"
            ],
            "layout": "IPY_MODEL_885c515be90948ae9fd46b310189f4e2"
          }
        },
        "cb442beadb2a4e10a4d3758aba32b561": {
          "model_module": "@jupyter-widgets/controls",
          "model_module_version": "1.5.0",
          "model_name": "DescriptionStyleModel",
          "state": {
            "_model_module": "@jupyter-widgets/controls",
            "_model_module_version": "1.5.0",
            "_model_name": "DescriptionStyleModel",
            "_view_count": null,
            "_view_module": "@jupyter-widgets/base",
            "_view_module_version": "1.2.0",
            "_view_name": "StyleView",
            "description_width": ""
          }
        },
        "deb690ef112f4bcaae3b689eec3dc8c5": {
          "model_module": "@jupyter-widgets/controls",
          "model_module_version": "1.5.0",
          "model_name": "DescriptionStyleModel",
          "state": {
            "_model_module": "@jupyter-widgets/controls",
            "_model_module_version": "1.5.0",
            "_model_name": "DescriptionStyleModel",
            "_view_count": null,
            "_view_module": "@jupyter-widgets/base",
            "_view_module_version": "1.2.0",
            "_view_name": "StyleView",
            "description_width": ""
          }
        },
        "e4e7c756132c478b93641bed6f49a0c5": {
          "model_module": "@jupyter-widgets/base",
          "model_module_version": "1.2.0",
          "model_name": "LayoutModel",
          "state": {
            "_model_module": "@jupyter-widgets/base",
            "_model_module_version": "1.2.0",
            "_model_name": "LayoutModel",
            "_view_count": null,
            "_view_module": "@jupyter-widgets/base",
            "_view_module_version": "1.2.0",
            "_view_name": "LayoutView",
            "align_content": null,
            "align_items": null,
            "align_self": null,
            "border": null,
            "bottom": null,
            "display": null,
            "flex": null,
            "flex_flow": null,
            "grid_area": null,
            "grid_auto_columns": null,
            "grid_auto_flow": null,
            "grid_auto_rows": null,
            "grid_column": null,
            "grid_gap": null,
            "grid_row": null,
            "grid_template_areas": null,
            "grid_template_columns": null,
            "grid_template_rows": null,
            "height": null,
            "justify_content": null,
            "justify_items": null,
            "left": null,
            "margin": null,
            "max_height": null,
            "max_width": null,
            "min_height": null,
            "min_width": null,
            "object_fit": null,
            "object_position": null,
            "order": null,
            "overflow": null,
            "overflow_x": null,
            "overflow_y": null,
            "padding": null,
            "right": null,
            "top": null,
            "visibility": null,
            "width": null
          }
        },
        "eb8b94f83d27450ab322dce332a313a4": {
          "model_module": "@jupyter-widgets/controls",
          "model_module_version": "1.5.0",
          "model_name": "ProgressStyleModel",
          "state": {
            "_model_module": "@jupyter-widgets/controls",
            "_model_module_version": "1.5.0",
            "_model_name": "ProgressStyleModel",
            "_view_count": null,
            "_view_module": "@jupyter-widgets/base",
            "_view_module_version": "1.2.0",
            "_view_name": "StyleView",
            "bar_color": null,
            "description_width": ""
          }
        },
        "ec831d8f992f45a5b1150cbc43ad15cd": {
          "model_module": "@jupyter-widgets/controls",
          "model_module_version": "1.5.0",
          "model_name": "ProgressStyleModel",
          "state": {
            "_model_module": "@jupyter-widgets/controls",
            "_model_module_version": "1.5.0",
            "_model_name": "ProgressStyleModel",
            "_view_count": null,
            "_view_module": "@jupyter-widgets/base",
            "_view_module_version": "1.2.0",
            "_view_name": "StyleView",
            "bar_color": null,
            "description_width": ""
          }
        },
        "f967b649169d487f8bba5524335053ef": {
          "model_module": "@jupyter-widgets/controls",
          "model_module_version": "1.5.0",
          "model_name": "ProgressStyleModel",
          "state": {
            "_model_module": "@jupyter-widgets/controls",
            "_model_module_version": "1.5.0",
            "_model_name": "ProgressStyleModel",
            "_view_count": null,
            "_view_module": "@jupyter-widgets/base",
            "_view_module_version": "1.2.0",
            "_view_name": "StyleView",
            "bar_color": null,
            "description_width": ""
          }
        }
      }
    }
  },
  "nbformat": 4,
  "nbformat_minor": 0
}
